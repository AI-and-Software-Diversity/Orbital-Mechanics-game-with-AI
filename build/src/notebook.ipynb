{
 "cells": [
  {
   "cell_type": "markdown",
   "id": "relevant-locking",
   "metadata": {},
   "source": [
    "\n"
   ]
  },
  {
   "cell_type": "code",
   "execution_count": 3,
   "id": "lightweight-algebra",
   "metadata": {},
   "outputs": [
    {
     "name": "stdout",
     "output_type": "stream",
     "text": [
      "pygame 2.1.2 (SDL 2.0.16, Python 3.7.11)\n",
      "Hello from the pygame community. https://www.pygame.org/contribute.html\n"
     ]
    }
   ],
   "source": [
    "import matplotlib.pyplot as plt\n",
    "import numpy as np\n",
    "import helpers as h\n",
    "import pandas as pd"
   ]
  },
  {
   "cell_type": "code",
   "execution_count": 4,
   "id": "fe9f0189",
   "metadata": {},
   "outputs": [],
   "source": [
    "def create_dataframe(filepath_data, filepath_setup):\n",
    "    \"\"\"\n",
    "    Takes the data csv aand the setup csv and combines them into 1 larger csv.\n",
    "    \"\"\"\n",
    "    \n",
    "    df_1 = pd.read_csv(filepath_data, sep=',')\n",
    "    df_2 = pd.read_csv(filepath_setup, sep=',')\n",
    "    \n",
    "    \n",
    "    #reference for concat: https://www.youtube.com/watch?v=iYWKfUOtGaw\n",
    "    df_rl = pd.concat([df_1, df_2], axis=1)\n",
    "    df_rl.columns = df_rl.columns.str.replace(' ', '')\n",
    "    df_rl.head(1)\n",
    "\n",
    "    return df_rl"
   ]
  },
  {
   "cell_type": "code",
   "execution_count": 5,
   "id": "64bdf976",
   "metadata": {},
   "outputs": [],
   "source": [
    "import random\n",
    "\n",
    "def get_random_filters_given_columns(dataframe):\n",
    "    \"\"\"\n",
    "    Using the column titles, and the min/max of the column, this function returns a random boolean condition or filter\n",
    "    \"\"\"\n",
    "    ...\n",
    "    #     list of the columns\n",
    "    #     lists of the min/max value of each column\n",
    "    \n",
    "    excluded_cols = ['wassuccesful',\n",
    "                     'reward',\n",
    "                     'actualsteps',\n",
    "                     'targetsteps',\n",
    "                     'runscompleted',\n",
    "                     'length',\n",
    "                     'height']\n",
    "    \n",
    "    cols = [col for col in dataframe.columns if col not in excluded_cols]\n",
    "    i = random.randint(0,len(cols)-1)\n",
    "    \n",
    "    maxs = [dataframe[col].max() for col in cols]\n",
    "    mins = [dataframe[col].min() for col in cols]\n",
    "    \n",
    "    print(i)\n",
    "    print(maxs)\n",
    "    print(mins)\n",
    "    \n",
    "    \n",
    "    pivot = random.randint(mins[i], \n",
    "                           maxs[i])\n",
    "    b = random.randint(0,1)\n",
    "    \n",
    "    if b == 0:\n",
    "        filt = (dataframe[cols[i]] > pivot)\n",
    "        print(f\"{cols[i]}>{pivot}\")\n",
    "    else:\n",
    "        filt = (dataframe[cols[i]] <= pivot)\n",
    "        print(f\"{cols[i]}<={pivot}\")\n",
    "    \n",
    "    \n",
    "    return filt\n",
    "\n",
    "\n"
   ]
  },
  {
   "cell_type": "code",
   "execution_count": 6,
   "id": "4e9f375d",
   "metadata": {},
   "outputs": [],
   "source": [
    "def average_reward_given_filters(dataframe, fltr):\n",
    "    \"\"\"\n",
    "    Given a table of data (like a csv or a dataframe) it finds the average \n",
    "    reward after filtering the table\n",
    "    \"\"\"\n",
    "    \n",
    "    # filter the dataframe\n",
    "    # reference fro loc: https://www.youtube.com/watch?v=Lw2rlcxScZY\n",
    "    df_avg = dataframe.loc[fltr, 'reward']\n",
    "    print(pd.DataFrame(df_avg))\n",
    "    \n",
    "    \n",
    "    # get the average of those that meet our conditions\n",
    "    avg_reward = np.mean(df_avg)\n",
    "    \n",
    "    return avg_reward"
   ]
  },
  {
   "cell_type": "code",
   "execution_count": 7,
   "id": "e46cf7b4",
   "metadata": {},
   "outputs": [],
   "source": [
    "# rl11\n",
    "path = \"/home/javonne/Uni/Orbital-Mechanics-game-with-AI/build/agents/2_star_2_planet/rl1\"\n",
    "filepath_data = f\"/{path}/data_rlearn.csv\"\n",
    "filepath_setup = f\"/{path}/setup_rlearn.csv\""
   ]
  },
  {
   "cell_type": "code",
   "execution_count": 8,
   "id": "7457876b",
   "metadata": {},
   "outputs": [],
   "source": [
    "df_rl = create_dataframe(filepath_data, filepath_setup)"
   ]
  },
  {
   "cell_type": "code",
   "execution_count": 9,
   "id": "a494eee7",
   "metadata": {
    "scrolled": false
   },
   "outputs": [
    {
     "name": "stdout",
     "output_type": "stream",
     "text": [
      "7\n",
      "[1400, 1400, 764, 764, 84, 84, 10, 10]\n",
      "[200, 200, 150, 151, 65, 65, 6, 6]\n",
      "planet_2_m_pos>7\n"
     ]
    }
   ],
   "source": [
    "filt = get_random_filters_given_columns(df_rl)"
   ]
  },
  {
   "cell_type": "code",
   "execution_count": 10,
   "id": "84f2d242",
   "metadata": {
    "scrolled": true
   },
   "outputs": [
    {
     "name": "stdout",
     "output_type": "stream",
     "text": [
      "     reward\n",
      "0      -104\n",
      "2      -148\n",
      "4      -156\n",
      "5      -152\n",
      "6      -104\n",
      "..      ...\n",
      "991    -156\n",
      "992     -92\n",
      "994    -152\n",
      "995    -104\n",
      "999    -160\n",
      "\n",
      "[589 rows x 1 columns]\n"
     ]
    },
    {
     "data": {
      "text/plain": [
       "-166.78438030560272"
      ]
     },
     "execution_count": 10,
     "metadata": {},
     "output_type": "execute_result"
    }
   ],
   "source": [
    "average_reward_given_filters(df_rl, filt)"
   ]
  },
  {
   "cell_type": "code",
   "execution_count": 2,
   "id": "a16905dc",
   "metadata": {},
   "outputs": [],
   "source": [
    "def sub_domain_search(df_agent_1, df_agent_2, num_checks):\n",
    "    \n",
    "    fitness_subdomain_winner = []\n",
    "    \n",
    "    # 1. You have two CSVs containing data that corresponds to two agents.\n",
    "    # via params\n",
    "    \n",
    "    # you ensure each data tihng has the same columns\n",
    "    if df_agent_1.columns != df_agent_2.columns:\n",
    "        raise Exception(\"These dataframes have different columns and cannot be compared. Perhaps the corresponding agents were trained with different inputs?\")\n",
    "    \n",
    "    # 7. You do this check N times.\n",
    "    for i in range(num_checks):\n",
    "        \n",
    "        # 4. You create one or many random filters given the columns from the parameter, and the min/max of those columns.\n",
    "        filt = get_random_filters_given_columns(df_agent_1)\n",
    "        \n",
    "        #  check the performance of each agent in chosen filter\n",
    "        agent_1_performance = average_reward_given_filters(df_agent_1, filt)\n",
    "        agent_2_performance = average_reward_given_filters(df_agent_2, filt)\n",
    "        \n",
    "        difference = np.abs(agent_1_performance - agent_2_performance)\n",
    "        \n",
    "        # 6. You record all of the filters and which CSV has a higher reward (in a tuple like: Tuple[filter_conditions, better] ).\n",
    "        if agent_1_performance >= agent_2_performance:\n",
    "            fitness_subdomain_winner.append(difference, filt, \"agent_1\")\n",
    "        else:\n",
    "            fitness_subdomain_winner.append(difference, filt, \"agent_2\")\n",
    "    \n",
    "    # put biggest differences at the top of the list\n",
    "    fitness_subdomain_winner = fitness_subdomain_winner.sort()\n",
    "    fitness_subdomain_winner = fitness_subdomain_winner.reverse()\n",
    "    \n",
    "    return subdomain_and_winner\n",
    "\n"
   ]
  },
  {
   "cell_type": "code",
   "execution_count": null,
   "id": "aa1246ac",
   "metadata": {},
   "outputs": [],
   "source": []
  },
  {
   "cell_type": "code",
   "execution_count": null,
   "id": "f45cbba6",
   "metadata": {},
   "outputs": [],
   "source": []
  },
  {
   "cell_type": "code",
   "execution_count": null,
   "id": "b40aad5b",
   "metadata": {},
   "outputs": [],
   "source": []
  },
  {
   "cell_type": "code",
   "execution_count": null,
   "id": "1d77484e",
   "metadata": {},
   "outputs": [],
   "source": []
  },
  {
   "cell_type": "code",
   "execution_count": null,
   "id": "f228dbd7",
   "metadata": {},
   "outputs": [],
   "source": [
    "# psuedocode\n",
    "# def sub_domain_search(csv_1, csv_2, [columns_to_search], number_of_checks):\n",
    "#     filter_and_better = []\n",
    "#     columns_1 = csv_1.columns\n",
    "#     columns_2 = csv_2.columns\n",
    "#     if columns_1 != columns_2:\n",
    "#         raise Exception\n",
    "#     for i in range(number_of_checks):\n",
    "#         filter_1 = get_random_filters_given_columns(csv_1)\n",
    "#         filter_2 = get_random_filters_given_columns(csv_2)\n",
    "#         avg_1 = average_reward_given_filters(csv_1, filter_1)\n",
    "#         avg_2 = average_reward_given_filters(csv_2, filter_2)\n",
    "#         if avg_1 >= avg_2:\n",
    "#             result = (filter_1, 0)\n",
    "#         else:\n",
    "#             result = (filter_2, 1)\n",
    "#         filter_and_better.append(result)\n",
    "#     return filter_and_better\n"
   ]
  },
  {
   "cell_type": "code",
   "execution_count": 30,
   "id": "d10343e8",
   "metadata": {},
   "outputs": [
    {
     "data": {
      "text/plain": [
       "[(8, 3), (6, 5), (7, 1)]"
      ]
     },
     "execution_count": 30,
     "metadata": {},
     "output_type": "execute_result"
    }
   ],
   "source": [
    "stuff = [(8,3),(6,5),(7,1)]\n",
    "stuff"
   ]
  },
  {
   "cell_type": "code",
   "execution_count": 35,
   "id": "c7ed8b17",
   "metadata": {},
   "outputs": [],
   "source": [
    "stuff.sort()"
   ]
  },
  {
   "cell_type": "code",
   "execution_count": 38,
   "id": "e9612626",
   "metadata": {},
   "outputs": [],
   "source": [
    "stuff.reverse()"
   ]
  },
  {
   "cell_type": "code",
   "execution_count": 39,
   "id": "ffe495e0",
   "metadata": {},
   "outputs": [
    {
     "data": {
      "text/plain": [
       "[(8, 3), (7, 1), (6, 5)]"
      ]
     },
     "execution_count": 39,
     "metadata": {},
     "output_type": "execute_result"
    }
   ],
   "source": [
    "stuff"
   ]
  },
  {
   "cell_type": "code",
   "execution_count": null,
   "id": "81c2f8cc",
   "metadata": {},
   "outputs": [],
   "source": []
  },
  {
   "cell_type": "code",
   "execution_count": null,
   "id": "71308dfd",
   "metadata": {},
   "outputs": [],
   "source": []
  },
  {
   "cell_type": "code",
   "execution_count": 240,
   "id": "4abddd22",
   "metadata": {},
   "outputs": [],
   "source": [
    "# import random\n",
    "\n",
    "# def get_random_filters_given_columns(dataframe):\n",
    "#     \"\"\"\n",
    "#     Using the column titles, and the min/max of the column, this function returns a random boolean condition or filter\n",
    "#     \"\"\"\n",
    "#     ...\n",
    "#     #     list of the columns\n",
    "#     #     lists of the min/max value of each column\n",
    "    \n",
    "#     excluded_cols = ['wassuccesful',\n",
    "#                      'reward',\n",
    "#                      'actualsteps',\n",
    "#                      'targetsteps',\n",
    "#                      'runscompleted',\n",
    "#                      'length',\n",
    "#                      'height']\n",
    "    \n",
    "#     cols = [col for col in df_rl.columns if col not in excluded_cols]\n",
    "#     i = random.randint(0,len(cols)-1)\n",
    "    \n",
    "#     maxs = [df_rl[col].max() for col in cols]\n",
    "#     mins = [df_rl[col].min() for col in cols]\n",
    "    \n",
    "#     print(i)\n",
    "#     print(maxs)\n",
    "#     print(mins)\n",
    "    \n",
    "    \n",
    "#     pivot = random.randint(mins[i], \n",
    "#                            maxs[i])\n",
    "#     b = random.randint(0,1)\n",
    "    \n",
    "#     if b == 0:\n",
    "#         filt = (dataframe[cols[i]] > pivot)\n",
    "#         print(f\"{cols[i]}>{pivot}\")\n",
    "#     else:\n",
    "#         filt = (dataframe[cols[i]] <= pivot)\n",
    "#         print(f\"{cols[i]}<={pivot}\")\n",
    "    \n",
    "    \n",
    "#     return filt\n",
    "\n",
    "\n"
   ]
  },
  {
   "cell_type": "code",
   "execution_count": 331,
   "id": "0cb2e473",
   "metadata": {
    "scrolled": false
   },
   "outputs": [
    {
     "name": "stdout",
     "output_type": "stream",
     "text": [
      "7\n",
      "[1400, 1400, 764, 764, 84, 84, 10, 10]\n",
      "[200, 200, 150, 151, 65, 65, 6, 6]\n",
      "planet_2_m_pos>8\n"
     ]
    },
    {
     "data": {
      "text/plain": [
       "0      False\n",
       "1      False\n",
       "2       True\n",
       "3      False\n",
       "4       True\n",
       "       ...  \n",
       "995     True\n",
       "996    False\n",
       "997    False\n",
       "998    False\n",
       "999     True\n",
       "Name: planet_2_m_pos, Length: 1000, dtype: bool"
      ]
     },
     "execution_count": 331,
     "metadata": {},
     "output_type": "execute_result"
    }
   ],
   "source": []
  },
  {
   "cell_type": "code",
   "execution_count": null,
   "id": "0a7eb146",
   "metadata": {},
   "outputs": [],
   "source": [
    "filt = (df_rl[\"reward\"]>-50)"
   ]
  },
  {
   "cell_type": "code",
   "execution_count": null,
   "id": "84340340",
   "metadata": {},
   "outputs": [],
   "source": []
  },
  {
   "cell_type": "code",
   "execution_count": null,
   "id": "63cc366a",
   "metadata": {},
   "outputs": [],
   "source": []
  },
  {
   "cell_type": "code",
   "execution_count": null,
   "id": "f6c1d9be",
   "metadata": {},
   "outputs": [],
   "source": []
  },
  {
   "cell_type": "code",
   "execution_count": null,
   "id": "7a55aa42",
   "metadata": {},
   "outputs": [],
   "source": []
  },
  {
   "cell_type": "code",
   "execution_count": null,
   "id": "d9d2cc79",
   "metadata": {},
   "outputs": [],
   "source": []
  },
  {
   "cell_type": "code",
   "execution_count": null,
   "id": "69111cd0",
   "metadata": {},
   "outputs": [],
   "source": []
  },
  {
   "cell_type": "code",
   "execution_count": null,
   "id": "764927c5",
   "metadata": {},
   "outputs": [],
   "source": []
  },
  {
   "cell_type": "code",
   "execution_count": null,
   "id": "868710e1",
   "metadata": {},
   "outputs": [],
   "source": []
  },
  {
   "cell_type": "code",
   "execution_count": null,
   "id": "7de67492",
   "metadata": {},
   "outputs": [],
   "source": []
  },
  {
   "cell_type": "code",
   "execution_count": null,
   "id": "10269247",
   "metadata": {},
   "outputs": [],
   "source": []
  },
  {
   "cell_type": "code",
   "execution_count": null,
   "id": "db90f8bb",
   "metadata": {},
   "outputs": [],
   "source": []
  },
  {
   "cell_type": "code",
   "execution_count": 7,
   "id": "ff82855f",
   "metadata": {},
   "outputs": [
    {
     "ename": "NameError",
     "evalue": "name 'df_neat' is not defined",
     "output_type": "error",
     "traceback": [
      "\u001b[0;31m---------------------------------------------------------------------------\u001b[0m",
      "\u001b[0;31mNameError\u001b[0m                                 Traceback (most recent call last)",
      "\u001b[0;32m/tmp/ipykernel_29080/580246620.py\u001b[0m in \u001b[0;36m<module>\u001b[0;34m\u001b[0m\n\u001b[0;32m----> 1\u001b[0;31m \u001b[0mdf_neat\u001b[0m\u001b[0;34m.\u001b[0m\u001b[0mcolumns\u001b[0m \u001b[0;34m=\u001b[0m \u001b[0mdf_neat\u001b[0m\u001b[0;34m.\u001b[0m\u001b[0mcolumns\u001b[0m\u001b[0;34m.\u001b[0m\u001b[0mstr\u001b[0m\u001b[0;34m.\u001b[0m\u001b[0mreplace\u001b[0m\u001b[0;34m(\u001b[0m\u001b[0;34m' '\u001b[0m\u001b[0;34m,\u001b[0m \u001b[0;34m''\u001b[0m\u001b[0;34m)\u001b[0m\u001b[0;34m\u001b[0m\u001b[0;34m\u001b[0m\u001b[0m\n\u001b[0m\u001b[1;32m      2\u001b[0m \u001b[0mdf_rl\u001b[0m\u001b[0;34m.\u001b[0m\u001b[0mcolumns\u001b[0m \u001b[0;34m=\u001b[0m \u001b[0mdf_rl\u001b[0m\u001b[0;34m.\u001b[0m\u001b[0mcolumns\u001b[0m\u001b[0;34m.\u001b[0m\u001b[0mstr\u001b[0m\u001b[0;34m.\u001b[0m\u001b[0mreplace\u001b[0m\u001b[0;34m(\u001b[0m\u001b[0;34m' '\u001b[0m\u001b[0;34m,\u001b[0m \u001b[0;34m''\u001b[0m\u001b[0;34m)\u001b[0m\u001b[0;34m\u001b[0m\u001b[0;34m\u001b[0m\u001b[0m\n\u001b[1;32m      3\u001b[0m \u001b[0mdf_neat\u001b[0m\u001b[0;34m.\u001b[0m\u001b[0mcolumns\u001b[0m\u001b[0;34m\u001b[0m\u001b[0;34m\u001b[0m\u001b[0m\n",
      "\u001b[0;31mNameError\u001b[0m: name 'df_neat' is not defined"
     ]
    }
   ],
   "source": [
    "df_neat.columns = df_neat.columns.str.replace(' ', '')\n",
    "df_rl.columns = df_rl.columns.str.replace(' ', '')\n",
    "df_neat.columns"
   ]
  },
  {
   "cell_type": "code",
   "execution_count": null,
   "id": "4902217d",
   "metadata": {
    "scrolled": true
   },
   "outputs": [],
   "source": [
    "df_neat = pd.concat([df_1, df_2], axis=1)\n",
    "print(\"a\")\n",
    "df_neat.head(5)\n",
    "df_neat.describe()\n",
    "\n",
    "\n",
    "plt.show()\n",
    "\n",
    "boxplot = df_neat.boxplot(\n",
    "    column=list(df_neat.columns[1:5]),\n",
    "    figsize=(x,y))\n",
    "\n",
    "plt.show()\n",
    "\n",
    "\n",
    "boxplot = df_neat.boxplot(\n",
    "    column=list(df_neat.columns[5:7]),\n",
    "    figsize=(x,y))\n",
    "\n",
    "plt.show()\n",
    "\n",
    "\n",
    "boxplot = df_neat.boxplot(\n",
    "    column=list(df_neat.columns[7:9]),\n",
    "    figsize=(x,y))"
   ]
  },
  {
   "cell_type": "code",
   "execution_count": null,
   "id": "c98c66fb",
   "metadata": {},
   "outputs": [],
   "source": []
  },
  {
   "cell_type": "code",
   "execution_count": null,
   "id": "cfae2b14",
   "metadata": {},
   "outputs": [],
   "source": []
  },
  {
   "cell_type": "code",
   "execution_count": null,
   "id": "728c1304",
   "metadata": {},
   "outputs": [],
   "source": []
  },
  {
   "cell_type": "code",
   "execution_count": null,
   "id": "faa92cab",
   "metadata": {},
   "outputs": [],
   "source": []
  },
  {
   "cell_type": "code",
   "execution_count": null,
   "id": "54a33f41",
   "metadata": {},
   "outputs": [],
   "source": []
  },
  {
   "cell_type": "code",
   "execution_count": null,
   "id": "a3b4894a",
   "metadata": {},
   "outputs": [],
   "source": []
  },
  {
   "cell_type": "code",
   "execution_count": null,
   "id": "2b788c4a",
   "metadata": {},
   "outputs": [],
   "source": []
  },
  {
   "cell_type": "code",
   "execution_count": null,
   "id": "8a3d99a9",
   "metadata": {},
   "outputs": [],
   "source": []
  },
  {
   "cell_type": "code",
   "execution_count": null,
   "id": "ad18487b",
   "metadata": {},
   "outputs": [],
   "source": []
  },
  {
   "cell_type": "code",
   "execution_count": null,
   "id": "9390e083",
   "metadata": {},
   "outputs": [],
   "source": []
  },
  {
   "cell_type": "code",
   "execution_count": null,
   "id": "79f27d30",
   "metadata": {},
   "outputs": [],
   "source": []
  },
  {
   "cell_type": "code",
   "execution_count": null,
   "id": "1facef33",
   "metadata": {},
   "outputs": [],
   "source": []
  },
  {
   "cell_type": "code",
   "execution_count": null,
   "id": "781f7050",
   "metadata": {},
   "outputs": [],
   "source": []
  },
  {
   "cell_type": "code",
   "execution_count": null,
   "id": "c4e513dd",
   "metadata": {},
   "outputs": [],
   "source": []
  },
  {
   "cell_type": "code",
   "execution_count": null,
   "id": "e373fc2f",
   "metadata": {},
   "outputs": [],
   "source": []
  },
  {
   "cell_type": "code",
   "execution_count": null,
   "id": "3a375379",
   "metadata": {},
   "outputs": [],
   "source": []
  },
  {
   "cell_type": "code",
   "execution_count": null,
   "id": "3a2ff597",
   "metadata": {},
   "outputs": [],
   "source": []
  },
  {
   "cell_type": "code",
   "execution_count": null,
   "id": "4525f331",
   "metadata": {},
   "outputs": [],
   "source": []
  },
  {
   "cell_type": "code",
   "execution_count": null,
   "id": "416e9b24",
   "metadata": {},
   "outputs": [],
   "source": []
  },
  {
   "cell_type": "code",
   "execution_count": null,
   "id": "73b2b90d",
   "metadata": {},
   "outputs": [],
   "source": []
  },
  {
   "cell_type": "code",
   "execution_count": null,
   "id": "d4b18281",
   "metadata": {},
   "outputs": [],
   "source": []
  },
  {
   "cell_type": "code",
   "execution_count": null,
   "id": "94578333",
   "metadata": {},
   "outputs": [],
   "source": []
  },
  {
   "cell_type": "code",
   "execution_count": null,
   "id": "664d6ce4",
   "metadata": {},
   "outputs": [],
   "source": []
  },
  {
   "cell_type": "code",
   "execution_count": null,
   "id": "e9e23be5",
   "metadata": {},
   "outputs": [],
   "source": []
  },
  {
   "cell_type": "code",
   "execution_count": null,
   "id": "2ba0dde4",
   "metadata": {},
   "outputs": [],
   "source": []
  },
  {
   "cell_type": "code",
   "execution_count": null,
   "id": "realistic-siemens",
   "metadata": {},
   "outputs": [],
   "source": []
  },
  {
   "cell_type": "code",
   "execution_count": null,
   "id": "85126474",
   "metadata": {},
   "outputs": [],
   "source": [
    "#neat11\n",
    "\n",
    "path = \"/home/javonne/Uni/Orbital-Mechanics-game-with-AI/build/agents/2_star_2_planet/neat4\"\n",
    "filepath_data = f\"/{path}/data_neat.csv\"\n",
    "filepath_setup = f\"/{path}/setup_neat.csv\"\n",
    "\n",
    "df_1 = pd.read_csv(filepath_data, delimiter=',')\n",
    "df_2 = pd.read_csv(filepath_setup, delimiter=',')\n",
    "\n",
    "df_1.columns = df_1.columns.str.replace(' ', '')\n",
    "df_2.columns = df_2.columns.str.replace(' ', '')"
   ]
  },
  {
   "cell_type": "code",
   "execution_count": null,
   "id": "9bc9f70d",
   "metadata": {
    "scrolled": true
   },
   "outputs": [],
   "source": [
    "# np.mean(df_1[[\"reward\"]])"
   ]
  },
  {
   "cell_type": "code",
   "execution_count": null,
   "id": "40c9b154",
   "metadata": {},
   "outputs": [],
   "source": [
    "df_1.columns"
   ]
  },
  {
   "cell_type": "code",
   "execution_count": null,
   "id": "8affcda8",
   "metadata": {},
   "outputs": [],
   "source": [
    "df_2.head(5)"
   ]
  },
  {
   "cell_type": "code",
   "execution_count": null,
   "id": "contrary-commercial",
   "metadata": {},
   "outputs": [],
   "source": [
    "# plt.show()\n",
    "\n",
    "# boxplot = df_rl.boxplot(\n",
    "#     column=list(df_rl.columns[1:3]),\n",
    "#     figsize=(x,y))\n",
    "\n",
    "# plt.show()\n",
    "\n",
    "\n",
    "# boxplot = df_rl.boxplot(\n",
    "#     column=list(df_rl.columns[5:7]),\n",
    "#     figsize=(x,y))\n",
    "\n",
    "# plt.show()\n",
    "\n",
    "\n",
    "# boxplot = df_rl.boxplot(\n",
    "#     column=list(df_rl.columns[7:9]),\n",
    "#     figsize=(x,y))"
   ]
  }
 ],
 "metadata": {
  "kernelspec": {
   "display_name": "Python 3 (ipykernel)",
   "language": "python",
   "name": "python3"
  },
  "language_info": {
   "codemirror_mode": {
    "name": "ipython",
    "version": 3
   },
   "file_extension": ".py",
   "mimetype": "text/x-python",
   "name": "python",
   "nbconvert_exporter": "python",
   "pygments_lexer": "ipython3",
   "version": "3.7.11"
  }
 },
 "nbformat": 4,
 "nbformat_minor": 5
}
