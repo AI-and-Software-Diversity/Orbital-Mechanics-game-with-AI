{
 "cells": [
  {
   "cell_type": "markdown",
   "id": "relevant-locking",
   "metadata": {},
   "source": [
    "\n"
   ]
  },
  {
   "cell_type": "code",
   "execution_count": 1,
   "id": "lightweight-algebra",
   "metadata": {},
   "outputs": [
    {
     "name": "stdout",
     "output_type": "stream",
     "text": [
      "pygame 2.1.2 (SDL 2.0.16, Python 3.8.8)\n",
      "Hello from the pygame community. https://www.pygame.org/contribute.html\n"
     ]
    }
   ],
   "source": [
    "import matplotlib.pyplot as plt\n",
    "import numpy as np\n",
    "import helpers as h\n",
    "import pandas as pd"
   ]
  },
  {
   "cell_type": "code",
   "execution_count": 2,
   "id": "composed-collar",
   "metadata": {},
   "outputs": [],
   "source": [
    "\n",
    "x = 12\n",
    "y = 3"
   ]
  },
  {
   "cell_type": "code",
   "execution_count": 6,
   "id": "toxic-terrorist",
   "metadata": {
    "scrolled": true
   },
   "outputs": [
    {
     "data": {
      "image/png": "[encoded data removed]",
      "text/plain": [
       "<Figure size 864x216 with 1 Axes>"
      ]
     },
     "metadata": {
      "needs_background": "light"
     },
     "output_type": "display_data"
    },
    {
     "data": {
      "image/png": "[encoded data removed]",
      "text/plain": [
       "<Figure size 864x216 with 1 Axes>"
      ]
     },
     "metadata": {
      "needs_background": "light"
     },
     "output_type": "display_data"
    },
    {
     "data": {
      "image/png": "[encoded data removed]",
      "text/plain": [
       "<Figure size 864x216 with 1 Axes>"
      ]
     },
     "metadata": {
      "needs_background": "light"
     },
     "output_type": "display_data"
    }
   ],
   "source": [
    "# rl11\n",
    "path = \"/home/javonne/Uni/Orbital-Mechanics-game-with-AI/build/agents/2_star_2_planet/rl1\"\n",
    "filepath_data = f\"/{path}/data_rlearn.csv\"\n",
    "filepath_setup = f\"/{path}/setup_rlearn.csv\"\n",
    "\n",
    "df_1 = pd.read_csv(filepath_data, sep=',')\n",
    "df_2 = pd.read_csv(filepath_setup, sep=',')\n",
    "\n",
    "#reference for concat: https://www.youtube.com/watch?v=iYWKfUOtGaw\n",
    "df_rl = pd.concat([df_1, df_2], axis=1)\n",
    "df_rl.head(5)\n",
    "df_rl.describe()\n",
    "\n",
    "plt.show()\n",
    "\n",
    "boxplot = df_rl.boxplot(\n",
    "    column=list(df_rl.columns[1:3]),\n",
    "    figsize=(x,y))\n",
    "\n",
    "plt.show()\n",
    "\n",
    "\n",
    "boxplot = df_rl.boxplot(\n",
    "    column=list(df_rl.columns[5:7]),\n",
    "    figsize=(x,y))\n",
    "\n",
    "plt.show()\n",
    "\n",
    "\n",
    "boxplot = df_rl.boxplot(\n",
    "    column=list(df_rl.columns[7:9]),\n",
    "    figsize=(x,y))"
   ]
  },
  {
   "cell_type": "code",
   "execution_count": 32,
   "id": "diverse-fruit",
   "metadata": {},
   "outputs": [
    {
     "data": {
      "text/html": [
       "<div>\n",
       "<style scoped>\n",
       "    .dataframe tbody tr th:only-of-type {\n",
       "        vertical-align: middle;\n",
       "    }\n",
       "\n",
       "    .dataframe tbody tr th {\n",
       "        vertical-align: top;\n",
       "    }\n",
       "\n",
       "    .dataframe thead th {\n",
       "        text-align: right;\n",
       "    }\n",
       "</style>\n",
       "<table border=\"1\" class=\"dataframe\">\n",
       "  <thead>\n",
       "    <tr style=\"text-align: right;\">\n",
       "      <th></th>\n",
       "      <th>was succesful</th>\n",
       "      <th>reward</th>\n",
       "      <th>actual steps</th>\n",
       "      <th>target steps</th>\n",
       "      <th>runs completed</th>\n",
       "    </tr>\n",
       "  </thead>\n",
       "  <tbody>\n",
       "    <tr>\n",
       "      <th>0</th>\n",
       "      <td>0</td>\n",
       "      <td>-104</td>\n",
       "      <td>166</td>\n",
       "      <td>2300</td>\n",
       "      <td>1</td>\n",
       "    </tr>\n",
       "    <tr>\n",
       "      <th>1</th>\n",
       "      <td>0</td>\n",
       "      <td>-160</td>\n",
       "      <td>22</td>\n",
       "      <td>2300</td>\n",
       "      <td>2</td>\n",
       "    </tr>\n",
       "    <tr>\n",
       "      <th>2</th>\n",
       "      <td>0</td>\n",
       "      <td>-148</td>\n",
       "      <td>97</td>\n",
       "      <td>2300</td>\n",
       "      <td>3</td>\n",
       "    </tr>\n",
       "    <tr>\n",
       "      <th>3</th>\n",
       "      <td>0</td>\n",
       "      <td>-44</td>\n",
       "      <td>211</td>\n",
       "      <td>2300</td>\n",
       "      <td>4</td>\n",
       "    </tr>\n",
       "    <tr>\n",
       "      <th>4</th>\n",
       "      <td>0</td>\n",
       "      <td>-156</td>\n",
       "      <td>47</td>\n",
       "      <td>2300</td>\n",
       "      <td>5</td>\n",
       "    </tr>\n",
       "  </tbody>\n",
       "</table>\n",
       "</div>"
      ],
      "text/plain": [
       "   was succesful   reward   actual steps   target steps   runs completed\n",
       "0              0     -104            166           2300                1\n",
       "1              0     -160             22           2300                2\n",
       "2              0     -148             97           2300                3\n",
       "3              0      -44            211           2300                4\n",
       "4              0     -156             47           2300                5"
      ]
     },
     "execution_count": 32,
     "metadata": {},
     "output_type": "execute_result"
    }
   ],
   "source": [
    "df_1.head(5)"
   ]
  },
  {
   "cell_type": "code",
   "execution_count": 33,
   "id": "norman-gibson",
   "metadata": {},
   "outputs": [
    {
     "data": {
      "text/html": [
       "<div>\n",
       "<style scoped>\n",
       "    .dataframe tbody tr th:only-of-type {\n",
       "        vertical-align: middle;\n",
       "    }\n",
       "\n",
       "    .dataframe tbody tr th {\n",
       "        vertical-align: top;\n",
       "    }\n",
       "\n",
       "    .dataframe thead th {\n",
       "        text-align: right;\n",
       "    }\n",
       "</style>\n",
       "<table border=\"1\" class=\"dataframe\">\n",
       "  <thead>\n",
       "    <tr style=\"text-align: right;\">\n",
       "      <th></th>\n",
       "      <th>star_1_x_pos</th>\n",
       "      <th>star_2_x_pos</th>\n",
       "      <th>star_1_y_pos</th>\n",
       "      <th>star_2_y_pos</th>\n",
       "      <th>star_1_m_pos</th>\n",
       "      <th>star_2_m_pos</th>\n",
       "      <th>planet_1_m_pos</th>\n",
       "      <th>planet_2_m_pos</th>\n",
       "      <th>length</th>\n",
       "      <th>height</th>\n",
       "    </tr>\n",
       "  </thead>\n",
       "  <tbody>\n",
       "    <tr>\n",
       "      <th>count</th>\n",
       "      <td>1000.000000</td>\n",
       "      <td>1000.000000</td>\n",
       "      <td>1000.00000</td>\n",
       "      <td>1000.000000</td>\n",
       "      <td>1000.000000</td>\n",
       "      <td>1000.000000</td>\n",
       "      <td>1000.000000</td>\n",
       "      <td>1000.000000</td>\n",
       "      <td>1000.0</td>\n",
       "      <td>1.000000e+03</td>\n",
       "    </tr>\n",
       "    <tr>\n",
       "      <th>mean</th>\n",
       "      <td>800.099000</td>\n",
       "      <td>812.553000</td>\n",
       "      <td>464.32800</td>\n",
       "      <td>448.806000</td>\n",
       "      <td>74.757000</td>\n",
       "      <td>74.506000</td>\n",
       "      <td>8.015000</td>\n",
       "      <td>7.969000</td>\n",
       "      <td>1600.0</td>\n",
       "      <td>9.142857e+02</td>\n",
       "    </tr>\n",
       "    <tr>\n",
       "      <th>std</th>\n",
       "      <td>344.307082</td>\n",
       "      <td>349.908181</td>\n",
       "      <td>182.16541</td>\n",
       "      <td>176.583799</td>\n",
       "      <td>5.802553</td>\n",
       "      <td>5.794095</td>\n",
       "      <td>1.375015</td>\n",
       "      <td>1.405708</td>\n",
       "      <td>0.0</td>\n",
       "      <td>1.137437e-13</td>\n",
       "    </tr>\n",
       "    <tr>\n",
       "      <th>min</th>\n",
       "      <td>200.000000</td>\n",
       "      <td>200.000000</td>\n",
       "      <td>150.00000</td>\n",
       "      <td>151.000000</td>\n",
       "      <td>65.000000</td>\n",
       "      <td>65.000000</td>\n",
       "      <td>6.000000</td>\n",
       "      <td>6.000000</td>\n",
       "      <td>1600.0</td>\n",
       "      <td>9.142857e+02</td>\n",
       "    </tr>\n",
       "    <tr>\n",
       "      <th>25%</th>\n",
       "      <td>497.000000</td>\n",
       "      <td>505.000000</td>\n",
       "      <td>311.75000</td>\n",
       "      <td>297.000000</td>\n",
       "      <td>70.000000</td>\n",
       "      <td>69.000000</td>\n",
       "      <td>7.000000</td>\n",
       "      <td>7.000000</td>\n",
       "      <td>1600.0</td>\n",
       "      <td>9.142857e+02</td>\n",
       "    </tr>\n",
       "    <tr>\n",
       "      <th>50%</th>\n",
       "      <td>811.000000</td>\n",
       "      <td>803.500000</td>\n",
       "      <td>468.00000</td>\n",
       "      <td>439.000000</td>\n",
       "      <td>75.000000</td>\n",
       "      <td>75.000000</td>\n",
       "      <td>8.000000</td>\n",
       "      <td>8.000000</td>\n",
       "      <td>1600.0</td>\n",
       "      <td>9.142857e+02</td>\n",
       "    </tr>\n",
       "    <tr>\n",
       "      <th>75%</th>\n",
       "      <td>1086.250000</td>\n",
       "      <td>1127.500000</td>\n",
       "      <td>628.25000</td>\n",
       "      <td>602.000000</td>\n",
       "      <td>80.000000</td>\n",
       "      <td>80.000000</td>\n",
       "      <td>9.000000</td>\n",
       "      <td>9.000000</td>\n",
       "      <td>1600.0</td>\n",
       "      <td>9.142857e+02</td>\n",
       "    </tr>\n",
       "    <tr>\n",
       "      <th>max</th>\n",
       "      <td>1400.000000</td>\n",
       "      <td>1400.000000</td>\n",
       "      <td>764.00000</td>\n",
       "      <td>764.000000</td>\n",
       "      <td>84.000000</td>\n",
       "      <td>84.000000</td>\n",
       "      <td>10.000000</td>\n",
       "      <td>10.000000</td>\n",
       "      <td>1600.0</td>\n",
       "      <td>9.142857e+02</td>\n",
       "    </tr>\n",
       "  </tbody>\n",
       "</table>\n",
       "</div>"
      ],
      "text/plain": [
       "       star_1_x_pos  star_2_x_pos  star_1_y_pos  star_2_y_pos  star_1_m_pos  \\\n",
       "count   1000.000000   1000.000000    1000.00000   1000.000000   1000.000000   \n",
       "mean     800.099000    812.553000     464.32800    448.806000     74.757000   \n",
       "std      344.307082    349.908181     182.16541    176.583799      5.802553   \n",
       "min      200.000000    200.000000     150.00000    151.000000     65.000000   \n",
       "25%      497.000000    505.000000     311.75000    297.000000     70.000000   \n",
       "50%      811.000000    803.500000     468.00000    439.000000     75.000000   \n",
       "75%     1086.250000   1127.500000     628.25000    602.000000     80.000000   \n",
       "max     1400.000000   1400.000000     764.00000    764.000000     84.000000   \n",
       "\n",
       "       star_2_m_pos  planet_1_m_pos  planet_2_m_pos  length        height  \n",
       "count   1000.000000     1000.000000     1000.000000  1000.0  1.000000e+03  \n",
       "mean      74.506000        8.015000        7.969000  1600.0  9.142857e+02  \n",
       "std        5.794095        1.375015        1.405708     0.0  1.137437e-13  \n",
       "min       65.000000        6.000000        6.000000  1600.0  9.142857e+02  \n",
       "25%       69.000000        7.000000        7.000000  1600.0  9.142857e+02  \n",
       "50%       75.000000        8.000000        8.000000  1600.0  9.142857e+02  \n",
       "75%       80.000000        9.000000        9.000000  1600.0  9.142857e+02  \n",
       "max       84.000000       10.000000       10.000000  1600.0  9.142857e+02  "
      ]
     },
     "execution_count": 33,
     "metadata": {},
     "output_type": "execute_result"
    }
   ],
   "source": [
    "df_2.describe()"
   ]
  },
  {
   "cell_type": "code",
   "execution_count": null,
   "id": "happy-martial",
   "metadata": {},
   "outputs": [],
   "source": []
  },
  {
   "cell_type": "code",
   "execution_count": 49,
   "id": "placed-spouse",
   "metadata": {},
   "outputs": [],
   "source": [
    "#neat11\n",
    "\n",
    "path = \"/home/javonne/Uni/Orbital-Mechanics-game-with-AI/build/agents/2_star_2_planet/neat4\"\n",
    "filepath_data = f\"/{path}/data_neat.csv\"\n",
    "filepath_setup = f\"/{path}/setup_neat.csv\"\n",
    "\n",
    "df_1 = pd.read_csv(filepath_data, delimiter=',')\n",
    "df_2 = pd.read_csv(filepath_setup, delimiter=',')\n",
    "\n",
    "df_1.columns = df_1.columns.str.replace(' ', '')\n",
    "df_2.columns = df_2.columns.str.replace(' ', '')"
   ]
  },
  {
   "cell_type": "code",
   "execution_count": 59,
   "id": "designing-cherry",
   "metadata": {},
   "outputs": [
    {
     "name": "stderr",
     "output_type": "stream",
     "text": [
      "/home/javonne/anaconda3/envs/maffs/lib/python3.8/site-packages/numpy/core/fromnumeric.py:3417: FutureWarning: In a future version, DataFrame.mean(axis=None) will return a scalar mean over the entire DataFrame. To retain the old behavior, use 'frame.mean(axis=0)' or just 'frame.mean()'\n",
      "  return mean(axis=axis, dtype=dtype, out=out, **kwargs)\n"
     ]
    },
    {
     "data": {
      "text/plain": [
       "reward   -232.031322\n",
       "dtype: float64"
      ]
     },
     "execution_count": 59,
     "metadata": {},
     "output_type": "execute_result"
    }
   ],
   "source": [
    "np.mean(df_1[[\"reward\"]])"
   ]
  },
  {
   "cell_type": "code",
   "execution_count": 51,
   "id": "comprehensive-peripheral",
   "metadata": {},
   "outputs": [
    {
     "data": {
      "text/plain": [
       "Index(['wassuccesful', 'reward', 'actualsteps', 'targetsteps', 'numstars',\n",
       "       'numplanets', 'runscompleted'],\n",
       "      dtype='object')"
      ]
     },
     "execution_count": 51,
     "metadata": {},
     "output_type": "execute_result"
    }
   ],
   "source": [
    "df_1.columns"
   ]
  },
  {
   "cell_type": "code",
   "execution_count": 52,
   "id": "fitted-herald",
   "metadata": {},
   "outputs": [
    {
     "data": {
      "text/html": [
       "<div>\n",
       "<style scoped>\n",
       "    .dataframe tbody tr th:only-of-type {\n",
       "        vertical-align: middle;\n",
       "    }\n",
       "\n",
       "    .dataframe tbody tr th {\n",
       "        vertical-align: top;\n",
       "    }\n",
       "\n",
       "    .dataframe thead th {\n",
       "        text-align: right;\n",
       "    }\n",
       "</style>\n",
       "<table border=\"1\" class=\"dataframe\">\n",
       "  <thead>\n",
       "    <tr style=\"text-align: right;\">\n",
       "      <th></th>\n",
       "      <th></th>\n",
       "      <th></th>\n",
       "      <th>wassuccesful</th>\n",
       "      <th>reward</th>\n",
       "      <th>actualsteps</th>\n",
       "      <th>targetsteps</th>\n",
       "      <th>numstars</th>\n",
       "      <th>numplanets</th>\n",
       "      <th>runscompleted</th>\n",
       "    </tr>\n",
       "  </thead>\n",
       "  <tbody>\n",
       "    <tr>\n",
       "      <th>792</th>\n",
       "      <th>1362</th>\n",
       "      <th>517</th>\n",
       "      <td>754</td>\n",
       "      <td>54</td>\n",
       "      <td>67</td>\n",
       "      <td>22</td>\n",
       "      <td>23</td>\n",
       "      <td>1600</td>\n",
       "      <td>914.285714</td>\n",
       "    </tr>\n",
       "    <tr>\n",
       "      <th>854</th>\n",
       "      <th>329</th>\n",
       "      <th>583</th>\n",
       "      <td>587</td>\n",
       "      <td>54</td>\n",
       "      <td>67</td>\n",
       "      <td>22</td>\n",
       "      <td>23</td>\n",
       "      <td>1600</td>\n",
       "      <td>914.285714</td>\n",
       "    </tr>\n",
       "    <tr>\n",
       "      <th>1325</th>\n",
       "      <th>1363</th>\n",
       "      <th>413</th>\n",
       "      <td>600</td>\n",
       "      <td>54</td>\n",
       "      <td>67</td>\n",
       "      <td>22</td>\n",
       "      <td>23</td>\n",
       "      <td>1600</td>\n",
       "      <td>914.285714</td>\n",
       "    </tr>\n",
       "    <tr>\n",
       "      <th>1311</th>\n",
       "      <th>1153</th>\n",
       "      <th>540</th>\n",
       "      <td>299</td>\n",
       "      <td>54</td>\n",
       "      <td>67</td>\n",
       "      <td>22</td>\n",
       "      <td>23</td>\n",
       "      <td>1600</td>\n",
       "      <td>914.285714</td>\n",
       "    </tr>\n",
       "    <tr>\n",
       "      <th>858</th>\n",
       "      <th>1267</th>\n",
       "      <th>188</th>\n",
       "      <td>670</td>\n",
       "      <td>54</td>\n",
       "      <td>67</td>\n",
       "      <td>22</td>\n",
       "      <td>23</td>\n",
       "      <td>1600</td>\n",
       "      <td>914.285714</td>\n",
       "    </tr>\n",
       "  </tbody>\n",
       "</table>\n",
       "</div>"
      ],
      "text/plain": [
       "               wassuccesful  reward  actualsteps  targetsteps  numstars  \\\n",
       "792  1362 517           754      54           67           22        23   \n",
       "854  329  583           587      54           67           22        23   \n",
       "1325 1363 413           600      54           67           22        23   \n",
       "1311 1153 540           299      54           67           22        23   \n",
       "858  1267 188           670      54           67           22        23   \n",
       "\n",
       "               numplanets  runscompleted  \n",
       "792  1362 517        1600     914.285714  \n",
       "854  329  583        1600     914.285714  \n",
       "1325 1363 413        1600     914.285714  \n",
       "1311 1153 540        1600     914.285714  \n",
       "858  1267 188        1600     914.285714  "
      ]
     },
     "execution_count": 52,
     "metadata": {},
     "output_type": "execute_result"
    }
   ],
   "source": [
    "df_2.head(5)"
   ]
  },
  {
   "cell_type": "code",
   "execution_count": 53,
   "id": "mechanical-introduction",
   "metadata": {
    "collapsed": true
   },
   "outputs": [
    {
     "name": "stderr",
     "output_type": "stream",
     "text": [
      "<ipython-input-53-3126081cce19>:1: RuntimeWarning: '<' not supported between instances of 'tuple' and 'int', sort order is undefined for incomparable objects.\n",
      "  df_neat = pd.concat([df_1, df_2], axis=1)\n"
     ]
    },
    {
     "ename": "InvalidIndexError",
     "evalue": "Reindexing only valid with uniquely valued Index objects",
     "output_type": "error",
     "traceback": [
      "\u001B[0;31m---------------------------------------------------------------------------\u001B[0m",
      "\u001B[0;31mInvalidIndexError\u001B[0m                         Traceback (most recent call last)",
      "\u001B[0;32m<ipython-input-53-3126081cce19>\u001B[0m in \u001B[0;36m<module>\u001B[0;34m\u001B[0m\n\u001B[0;32m----> 1\u001B[0;31m \u001B[0mdf_neat\u001B[0m \u001B[0;34m=\u001B[0m \u001B[0mpd\u001B[0m\u001B[0;34m.\u001B[0m\u001B[0mconcat\u001B[0m\u001B[0;34m(\u001B[0m\u001B[0;34m[\u001B[0m\u001B[0mdf_1\u001B[0m\u001B[0;34m,\u001B[0m \u001B[0mdf_2\u001B[0m\u001B[0;34m]\u001B[0m\u001B[0;34m,\u001B[0m \u001B[0maxis\u001B[0m\u001B[0;34m=\u001B[0m\u001B[0;36m1\u001B[0m\u001B[0;34m)\u001B[0m\u001B[0;34m\u001B[0m\u001B[0;34m\u001B[0m\u001B[0m\n\u001B[0m\u001B[1;32m      2\u001B[0m \u001B[0mprint\u001B[0m\u001B[0;34m(\u001B[0m\u001B[0;34m\"a\"\u001B[0m\u001B[0;34m)\u001B[0m\u001B[0;34m\u001B[0m\u001B[0;34m\u001B[0m\u001B[0m\n\u001B[1;32m      3\u001B[0m \u001B[0mdf_neat\u001B[0m\u001B[0;34m.\u001B[0m\u001B[0mhead\u001B[0m\u001B[0;34m(\u001B[0m\u001B[0;36m5\u001B[0m\u001B[0;34m)\u001B[0m\u001B[0;34m\u001B[0m\u001B[0;34m\u001B[0m\u001B[0m\n\u001B[1;32m      4\u001B[0m \u001B[0mdf_neat\u001B[0m\u001B[0;34m.\u001B[0m\u001B[0mdescribe\u001B[0m\u001B[0;34m(\u001B[0m\u001B[0;34m)\u001B[0m\u001B[0;34m\u001B[0m\u001B[0;34m\u001B[0m\u001B[0m\n\u001B[1;32m      5\u001B[0m \u001B[0;34m\u001B[0m\u001B[0m\n",
      "\u001B[0;32m~/anaconda3/envs/maffs/lib/python3.8/site-packages/pandas/util/_decorators.py\u001B[0m in \u001B[0;36mwrapper\u001B[0;34m(*args, **kwargs)\u001B[0m\n\u001B[1;32m    309\u001B[0m                     \u001B[0mstacklevel\u001B[0m\u001B[0;34m=\u001B[0m\u001B[0mstacklevel\u001B[0m\u001B[0;34m,\u001B[0m\u001B[0;34m\u001B[0m\u001B[0;34m\u001B[0m\u001B[0m\n\u001B[1;32m    310\u001B[0m                 )\n\u001B[0;32m--> 311\u001B[0;31m             \u001B[0;32mreturn\u001B[0m \u001B[0mfunc\u001B[0m\u001B[0;34m(\u001B[0m\u001B[0;34m*\u001B[0m\u001B[0margs\u001B[0m\u001B[0;34m,\u001B[0m \u001B[0;34m**\u001B[0m\u001B[0mkwargs\u001B[0m\u001B[0;34m)\u001B[0m\u001B[0;34m\u001B[0m\u001B[0;34m\u001B[0m\u001B[0m\n\u001B[0m\u001B[1;32m    312\u001B[0m \u001B[0;34m\u001B[0m\u001B[0m\n\u001B[1;32m    313\u001B[0m         \u001B[0;32mreturn\u001B[0m \u001B[0mwrapper\u001B[0m\u001B[0;34m\u001B[0m\u001B[0;34m\u001B[0m\u001B[0m\n",
      "\u001B[0;32m~/anaconda3/envs/maffs/lib/python3.8/site-packages/pandas/core/reshape/concat.py\u001B[0m in \u001B[0;36mconcat\u001B[0;34m(objs, axis, join, ignore_index, keys, levels, names, verify_integrity, sort, copy)\u001B[0m\n\u001B[1;32m    358\u001B[0m     )\n\u001B[1;32m    359\u001B[0m \u001B[0;34m\u001B[0m\u001B[0m\n\u001B[0;32m--> 360\u001B[0;31m     \u001B[0;32mreturn\u001B[0m \u001B[0mop\u001B[0m\u001B[0;34m.\u001B[0m\u001B[0mget_result\u001B[0m\u001B[0;34m(\u001B[0m\u001B[0;34m)\u001B[0m\u001B[0;34m\u001B[0m\u001B[0;34m\u001B[0m\u001B[0m\n\u001B[0m\u001B[1;32m    361\u001B[0m \u001B[0;34m\u001B[0m\u001B[0m\n\u001B[1;32m    362\u001B[0m \u001B[0;34m\u001B[0m\u001B[0m\n",
      "\u001B[0;32m~/anaconda3/envs/maffs/lib/python3.8/site-packages/pandas/core/reshape/concat.py\u001B[0m in \u001B[0;36mget_result\u001B[0;34m(self)\u001B[0m\n\u001B[1;32m    589\u001B[0m                     \u001B[0mobj_labels\u001B[0m \u001B[0;34m=\u001B[0m \u001B[0mobj\u001B[0m\u001B[0;34m.\u001B[0m\u001B[0maxes\u001B[0m\u001B[0;34m[\u001B[0m\u001B[0;36m1\u001B[0m \u001B[0;34m-\u001B[0m \u001B[0max\u001B[0m\u001B[0;34m]\u001B[0m\u001B[0;34m\u001B[0m\u001B[0;34m\u001B[0m\u001B[0m\n\u001B[1;32m    590\u001B[0m                     \u001B[0;32mif\u001B[0m \u001B[0;32mnot\u001B[0m \u001B[0mnew_labels\u001B[0m\u001B[0;34m.\u001B[0m\u001B[0mequals\u001B[0m\u001B[0;34m(\u001B[0m\u001B[0mobj_labels\u001B[0m\u001B[0;34m)\u001B[0m\u001B[0;34m:\u001B[0m\u001B[0;34m\u001B[0m\u001B[0;34m\u001B[0m\u001B[0m\n\u001B[0;32m--> 591\u001B[0;31m                         \u001B[0mindexers\u001B[0m\u001B[0;34m[\u001B[0m\u001B[0max\u001B[0m\u001B[0;34m]\u001B[0m \u001B[0;34m=\u001B[0m \u001B[0mobj_labels\u001B[0m\u001B[0;34m.\u001B[0m\u001B[0mget_indexer\u001B[0m\u001B[0;34m(\u001B[0m\u001B[0mnew_labels\u001B[0m\u001B[0;34m)\u001B[0m\u001B[0;34m\u001B[0m\u001B[0;34m\u001B[0m\u001B[0m\n\u001B[0m\u001B[1;32m    592\u001B[0m \u001B[0;34m\u001B[0m\u001B[0m\n\u001B[1;32m    593\u001B[0m                 \u001B[0mmgrs_indexers\u001B[0m\u001B[0;34m.\u001B[0m\u001B[0mappend\u001B[0m\u001B[0;34m(\u001B[0m\u001B[0;34m(\u001B[0m\u001B[0mobj\u001B[0m\u001B[0;34m.\u001B[0m\u001B[0m_mgr\u001B[0m\u001B[0;34m,\u001B[0m \u001B[0mindexers\u001B[0m\u001B[0;34m)\u001B[0m\u001B[0;34m)\u001B[0m\u001B[0;34m\u001B[0m\u001B[0;34m\u001B[0m\u001B[0m\n",
      "\u001B[0;32m~/anaconda3/envs/maffs/lib/python3.8/site-packages/pandas/core/indexes/base.py\u001B[0m in \u001B[0;36mget_indexer\u001B[0;34m(self, target, method, limit, tolerance)\u001B[0m\n\u001B[1;32m   3719\u001B[0m \u001B[0;34m\u001B[0m\u001B[0m\n\u001B[1;32m   3720\u001B[0m         \u001B[0;32mif\u001B[0m \u001B[0;32mnot\u001B[0m \u001B[0mself\u001B[0m\u001B[0;34m.\u001B[0m\u001B[0m_index_as_unique\u001B[0m\u001B[0;34m:\u001B[0m\u001B[0;34m\u001B[0m\u001B[0;34m\u001B[0m\u001B[0m\n\u001B[0;32m-> 3721\u001B[0;31m             \u001B[0;32mraise\u001B[0m \u001B[0mInvalidIndexError\u001B[0m\u001B[0;34m(\u001B[0m\u001B[0mself\u001B[0m\u001B[0;34m.\u001B[0m\u001B[0m_requires_unique_msg\u001B[0m\u001B[0;34m)\u001B[0m\u001B[0;34m\u001B[0m\u001B[0;34m\u001B[0m\u001B[0m\n\u001B[0m\u001B[1;32m   3722\u001B[0m \u001B[0;34m\u001B[0m\u001B[0m\n\u001B[1;32m   3723\u001B[0m         \u001B[0;32mif\u001B[0m \u001B[0mlen\u001B[0m\u001B[0;34m(\u001B[0m\u001B[0mtarget\u001B[0m\u001B[0;34m)\u001B[0m \u001B[0;34m==\u001B[0m \u001B[0;36m0\u001B[0m\u001B[0;34m:\u001B[0m\u001B[0;34m\u001B[0m\u001B[0;34m\u001B[0m\u001B[0m\n",
      "\u001B[0;31mInvalidIndexError\u001B[0m: Reindexing only valid with uniquely valued Index objects"
     ]
    }
   ],
   "source": [
    "df_neat = pd.concat([df_1, df_2], axis=1)\n",
    "print(\"a\")\n",
    "df_neat.head(5)\n",
    "df_neat.describe()\n",
    "\n",
    "\n",
    "plt.show()\n",
    "\n",
    "boxplot = df_neat.boxplot(\n",
    "    column=list(df_neat.columns[1:5]),\n",
    "    figsize=(x,y))\n",
    "\n",
    "plt.show()\n",
    "\n",
    "\n",
    "boxplot = df_neat.boxplot(\n",
    "    column=list(df_neat.columns[5:7]),\n",
    "    figsize=(x,y))\n",
    "\n",
    "plt.show()\n",
    "\n",
    "\n",
    "boxplot = df_neat.boxplot(\n",
    "    column=list(df_neat.columns[7:9]),\n",
    "    figsize=(x,y))"
   ]
  },
  {
   "cell_type": "code",
   "execution_count": 54,
   "id": "specific-jacob",
   "metadata": {
    "collapsed": true
   },
   "outputs": [
    {
     "data": {
      "text/plain": [
       "Index(['wassuccesful', 'reward', 'actualsteps', 'targetsteps', 'runscompleted',\n",
       "       'star_1_x_pos', 'star_1_y_pos', 'star_1_m_pos', 'planet_1_m_pos',\n",
       "       'length', 'height'],\n",
       "      dtype='object')"
      ]
     },
     "execution_count": 54,
     "metadata": {},
     "output_type": "execute_result"
    }
   ],
   "source": [
    "df_neat.columns = df_neat.columns.str.replace(' ', '')\n",
    "df_rl.columns = df_rl.columns.str.replace(' ', '')\n",
    "df_neat.columns"
   ]
  },
  {
   "cell_type": "code",
   "execution_count": 55,
   "id": "informal-double",
   "metadata": {
    "collapsed": true
   },
   "outputs": [
    {
     "ename": "NameError",
     "evalue": "name 'filt' is not defined",
     "output_type": "error",
     "traceback": [
      "\u001B[0;31m---------------------------------------------------------------------------\u001B[0m",
      "\u001B[0;31mNameError\u001B[0m                                 Traceback (most recent call last)",
      "\u001B[0;32m<ipython-input-55-82b70948d1b8>\u001B[0m in \u001B[0;36m<module>\u001B[0;34m\u001B[0m\n\u001B[0;32m----> 1\u001B[0;31m \u001B[0mrl_avg\u001B[0m \u001B[0;34m=\u001B[0m \u001B[0mdf_rl\u001B[0m\u001B[0;34m.\u001B[0m\u001B[0mloc\u001B[0m\u001B[0;34m[\u001B[0m\u001B[0mfilt\u001B[0m\u001B[0;34m,\u001B[0m \u001B[0;34m'reward'\u001B[0m\u001B[0;34m]\u001B[0m\u001B[0;34m\u001B[0m\u001B[0;34m\u001B[0m\u001B[0m\n\u001B[0m\u001B[1;32m      2\u001B[0m \u001B[0mprint\u001B[0m\u001B[0;34m(\u001B[0m\u001B[0mnp\u001B[0m\u001B[0;34m.\u001B[0m\u001B[0mmean\u001B[0m\u001B[0;34m(\u001B[0m\u001B[0mrl_avg\u001B[0m\u001B[0;34m)\u001B[0m\u001B[0;34m)\u001B[0m\u001B[0;34m\u001B[0m\u001B[0;34m\u001B[0m\u001B[0m\n",
      "\u001B[0;31mNameError\u001B[0m: name 'filt' is not defined"
     ]
    }
   ],
   "source": [
    "# reference fro loc: https://www.youtube.com/watch?v=Lw2rlcxScZY\n",
    "rl_avg = df_rl.loc[filt, 'reward']\n",
    "print(np.mean(rl_avg))"
   ]
  },
  {
   "cell_type": "code",
   "execution_count": null,
   "id": "35e321fd",
   "metadata": {},
   "outputs": [],
   "source": []
  },
  {
   "cell_type": "code",
   "execution_count": null,
   "id": "c01b618b",
   "metadata": {},
   "outputs": [],
   "source": []
  },
  {
   "cell_type": "code",
   "execution_count": null,
   "id": "84f2d242",
   "metadata": {},
   "outputs": [],
   "source": []
  },
  {
   "cell_type": "code",
   "execution_count": null,
   "id": "cfae2b14",
   "metadata": {},
   "outputs": [],
   "source": []
  },
  {
   "cell_type": "code",
   "execution_count": null,
   "id": "728c1304",
   "metadata": {},
   "outputs": [],
   "source": []
  },
  {
   "cell_type": "code",
   "execution_count": null,
   "id": "faa92cab",
   "metadata": {},
   "outputs": [],
   "source": []
  },
  {
   "cell_type": "code",
   "execution_count": null,
   "id": "54a33f41",
   "metadata": {},
   "outputs": [],
   "source": []
  },
  {
   "cell_type": "code",
   "execution_count": null,
   "id": "a3b4894a",
   "metadata": {},
   "outputs": [],
   "source": []
  },
  {
   "cell_type": "code",
   "execution_count": null,
   "id": "2b788c4a",
   "metadata": {},
   "outputs": [],
   "source": []
  },
  {
   "cell_type": "code",
   "execution_count": null,
   "id": "8a3d99a9",
   "metadata": {},
   "outputs": [],
   "source": []
  },
  {
   "cell_type": "code",
   "execution_count": null,
   "id": "ad18487b",
   "metadata": {},
   "outputs": [],
   "source": []
  },
  {
   "cell_type": "code",
   "execution_count": null,
   "id": "9390e083",
   "metadata": {},
   "outputs": [],
   "source": []
  },
  {
   "cell_type": "code",
   "execution_count": null,
   "id": "79f27d30",
   "metadata": {},
   "outputs": [],
   "source": []
  },
  {
   "cell_type": "code",
   "execution_count": null,
   "id": "1facef33",
   "metadata": {},
   "outputs": [],
   "source": []
  },
  {
   "cell_type": "code",
   "execution_count": null,
   "id": "781f7050",
   "metadata": {},
   "outputs": [],
   "source": []
  },
  {
   "cell_type": "code",
   "execution_count": null,
   "id": "c4e513dd",
   "metadata": {},
   "outputs": [],
   "source": []
  },
  {
   "cell_type": "code",
   "execution_count": null,
   "id": "e373fc2f",
   "metadata": {},
   "outputs": [],
   "source": []
  },
  {
   "cell_type": "code",
   "execution_count": null,
   "id": "realistic-siemens",
   "metadata": {},
   "outputs": [],
   "source": []
  },
  {
   "cell_type": "code",
   "execution_count": null,
   "id": "contrary-commercial",
   "metadata": {},
   "outputs": [],
   "source": []
  }
 ],
 "metadata": {
  "kernelspec": {
   "display_name": "Python 3",
   "language": "python",
   "name": "python3"
  },
  "language_info": {
   "codemirror_mode": {
    "name": "ipython",
    "version": 3
   },
   "file_extension": ".py",
   "mimetype": "text/x-python",
   "name": "python",
   "nbconvert_exporter": "python",
   "pygments_lexer": "ipython3",
   "version": "3.8.8"
  }
 },
 "nbformat": 4,
 "nbformat_minor": 5
}