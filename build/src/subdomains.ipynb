{
 "cells": [
  {
   "cell_type": "markdown",
   "id": "relevant-locking",
   "metadata": {},
   "source": [
    "\n"
   ]
  },
  {
   "cell_type": "code",
   "execution_count": 1,
   "id": "lightweight-algebra",
   "metadata": {},
   "outputs": [
    {
     "name": "stdout",
     "output_type": "stream",
     "text": [
      "pygame 2.1.2 (SDL 2.0.16, Python 3.7.11)\n",
      "Hello from the pygame community. https://www.pygame.org/contribute.html\n"
     ]
    }
   ],
   "source": [
    "import matplotlib.pyplot as plt\n",
    "import numpy as np\n",
    "import helpers as h\n",
    "import pandas as pd"
   ]
  },
  {
   "cell_type": "code",
   "execution_count": 2,
   "id": "fe9f0189",
   "metadata": {},
   "outputs": [],
   "source": [
    "def create_dataframe(filepath_data, filepath_setup):\n",
    "    \"\"\"\n",
    "    Takes the data csv and the setup csv and combines them into \n",
    "    1 larger csv.\n",
    "    \"\"\"\n",
    "    \n",
    "    df_1 = pd.read_csv(filepath_data, sep=',')\n",
    "    df_2 = pd.read_csv(filepath_setup, sep=',')\n",
    "    \n",
    "    \n",
    "    #reference for concat: https://www.youtube.com/watch?v=iYWKfUOtGaw\n",
    "    df_rl = pd.concat([df_1, df_2], axis=1)\n",
    "    df_rl.columns = df_rl.columns.str.replace(' ', '')\n",
    "\n",
    "    return df_rl"
   ]
  },
  {
   "cell_type": "code",
   "execution_count": 3,
   "id": "73efea14",
   "metadata": {},
   "outputs": [],
   "source": [
    "def filtered_df(df, cols, i, operator, pivot):\n",
    "    if operator == \">\":\n",
    "        return (df[cols[i]] > pivot)\n",
    "    else:\n",
    "        return (df[cols[i]] <= pivot)"
   ]
  },
  {
   "cell_type": "code",
   "execution_count": 4,
   "id": "64bdf976",
   "metadata": {},
   "outputs": [],
   "source": [
    "import random\n",
    "\n",
    "\n",
    "def get_random_filters_given_columns(dataframe):\n",
    "    \"\"\"\n",
    "    Using the column titles, and the min/max of the column, \n",
    "    this function returns a random boolean condition or filter\n",
    "    \"\"\"\n",
    "\n",
    "    #     list of the columns\n",
    "    #     lists of the min/max value of each column\n",
    "    \n",
    "    excluded_cols = ['wassuccesful',\n",
    "                     'reward',\n",
    "                     'actualsteps',\n",
    "                     'targetsteps',\n",
    "                     'runscompleted',\n",
    "                     'length',\n",
    "                     'height']\n",
    "    \n",
    "    cols = [col for col in dataframe.columns if col not in excluded_cols]\n",
    "    i = random.randint(0,len(cols)-1)\n",
    "    \n",
    "    maxs = [dataframe[col].max() for col in cols]\n",
    "    mins = [dataframe[col].min() for col in cols]\n",
    "\n",
    "#     print(i)\n",
    "#     print(maxs)\n",
    "#     print(mins)\n",
    "    \n",
    "    filt_info = []\n",
    "    pivot = random.randint(mins[i], \n",
    "                           maxs[i])\n",
    "    b = random.randint(0,1)\n",
    "    \n",
    "    if b == 0:\n",
    "#         filt = (dataframe[cols[i]] > pivot)\n",
    "        filt = filtered_df(dataframe, cols, i, \">\", pivot)\n",
    "        \n",
    "        filt_info.append((dataframe, cols, i, \">\", pivot))\n",
    "#         print(f\"{cols[i]}>{pivot}\")\n",
    "    else:\n",
    "#         filt = (dataframe[cols[i]] <= pivot)\n",
    "        filt = filtered_df(dataframe, cols, i, \"<=\", pivot)\n",
    "        filt_info.append((dataframe, cols, i, \"<=\", pivot))\n",
    "#         print(f\"{cols[i]}<={pivot}\")\n",
    "    \n",
    "    \n",
    "    return filt, filt_info\n",
    "\n",
    "\n"
   ]
  },
  {
   "cell_type": "code",
   "execution_count": 5,
   "id": "4e9f375d",
   "metadata": {},
   "outputs": [],
   "source": [
    "def average_reward_given_filters(dataframe, fltr):\n",
    "    \"\"\"\n",
    "    Given a table of data (like a csv or a dataframe) it finds the average \n",
    "    reward after filtering the table\n",
    "    \"\"\"\n",
    "    \n",
    "    # filter the dataframe\n",
    "    # reference fro loc: https://www.youtube.com/watch?v=Lw2rlcxScZY\n",
    "    df_avg = dataframe.loc[fltr, 'reward']\n",
    "#     print(pd.DataFrame(df_avg))\n",
    "    \n",
    "    \n",
    "    # get the average of those that meet our conditions\n",
    "    avg_reward = np.mean(df_avg)\n",
    "    \n",
    "    return avg_reward"
   ]
  },
  {
   "cell_type": "code",
   "execution_count": 6,
   "id": "e46cf7b4",
   "metadata": {},
   "outputs": [],
   "source": [
    "# rl11\n",
    "path = \"/home/javonne/Uni/Orbital-Mechanics-game-with-AI/build/agents/2_star_2_planet/rl1\"\n",
    "filepath_data = f\"/{path}/data_rlearn.csv\"\n",
    "filepath_setup = f\"/{path}/setup_rlearn.csv\""
   ]
  },
  {
   "cell_type": "code",
   "execution_count": 7,
   "id": "7457876b",
   "metadata": {},
   "outputs": [],
   "source": [
    "df_rl = create_dataframe(filepath_data, filepath_setup)"
   ]
  },
  {
   "cell_type": "code",
   "execution_count": 9,
   "id": "c9f77c87",
   "metadata": {},
   "outputs": [
    {
     "data": {
      "text/html": [
       "<div>\n",
       "<style scoped>\n",
       "    .dataframe tbody tr th:only-of-type {\n",
       "        vertical-align: middle;\n",
       "    }\n",
       "\n",
       "    .dataframe tbody tr th {\n",
       "        vertical-align: top;\n",
       "    }\n",
       "\n",
       "    .dataframe thead th {\n",
       "        text-align: right;\n",
       "    }\n",
       "</style>\n",
       "<table border=\"1\" class=\"dataframe\">\n",
       "  <thead>\n",
       "    <tr style=\"text-align: right;\">\n",
       "      <th></th>\n",
       "      <th>wassuccesful</th>\n",
       "      <th>reward</th>\n",
       "      <th>actualsteps</th>\n",
       "      <th>targetsteps</th>\n",
       "      <th>runscompleted</th>\n",
       "      <th>star_1_x_pos</th>\n",
       "      <th>star_2_x_pos</th>\n",
       "      <th>star_1_y_pos</th>\n",
       "      <th>star_2_y_pos</th>\n",
       "      <th>star_1_m_pos</th>\n",
       "      <th>star_2_m_pos</th>\n",
       "      <th>planet_1_m_pos</th>\n",
       "      <th>planet_2_m_pos</th>\n",
       "      <th>length</th>\n",
       "      <th>height</th>\n",
       "    </tr>\n",
       "  </thead>\n",
       "  <tbody>\n",
       "    <tr>\n",
       "      <th>0</th>\n",
       "      <td>0</td>\n",
       "      <td>-104</td>\n",
       "      <td>166</td>\n",
       "      <td>2300</td>\n",
       "      <td>1</td>\n",
       "      <td>1104</td>\n",
       "      <td>1204</td>\n",
       "      <td>760</td>\n",
       "      <td>469</td>\n",
       "      <td>79</td>\n",
       "      <td>75</td>\n",
       "      <td>6</td>\n",
       "      <td>8</td>\n",
       "      <td>1600</td>\n",
       "      <td>914.285714</td>\n",
       "    </tr>\n",
       "    <tr>\n",
       "      <th>1</th>\n",
       "      <td>0</td>\n",
       "      <td>-160</td>\n",
       "      <td>22</td>\n",
       "      <td>2300</td>\n",
       "      <td>2</td>\n",
       "      <td>999</td>\n",
       "      <td>1077</td>\n",
       "      <td>199</td>\n",
       "      <td>690</td>\n",
       "      <td>66</td>\n",
       "      <td>76</td>\n",
       "      <td>6</td>\n",
       "      <td>6</td>\n",
       "      <td>1600</td>\n",
       "      <td>914.285714</td>\n",
       "    </tr>\n",
       "    <tr>\n",
       "      <th>2</th>\n",
       "      <td>0</td>\n",
       "      <td>-148</td>\n",
       "      <td>97</td>\n",
       "      <td>2300</td>\n",
       "      <td>3</td>\n",
       "      <td>1207</td>\n",
       "      <td>758</td>\n",
       "      <td>577</td>\n",
       "      <td>320</td>\n",
       "      <td>65</td>\n",
       "      <td>75</td>\n",
       "      <td>6</td>\n",
       "      <td>10</td>\n",
       "      <td>1600</td>\n",
       "      <td>914.285714</td>\n",
       "    </tr>\n",
       "    <tr>\n",
       "      <th>3</th>\n",
       "      <td>0</td>\n",
       "      <td>-44</td>\n",
       "      <td>211</td>\n",
       "      <td>2300</td>\n",
       "      <td>4</td>\n",
       "      <td>278</td>\n",
       "      <td>375</td>\n",
       "      <td>394</td>\n",
       "      <td>763</td>\n",
       "      <td>78</td>\n",
       "      <td>84</td>\n",
       "      <td>8</td>\n",
       "      <td>7</td>\n",
       "      <td>1600</td>\n",
       "      <td>914.285714</td>\n",
       "    </tr>\n",
       "    <tr>\n",
       "      <th>4</th>\n",
       "      <td>0</td>\n",
       "      <td>-156</td>\n",
       "      <td>47</td>\n",
       "      <td>2300</td>\n",
       "      <td>5</td>\n",
       "      <td>691</td>\n",
       "      <td>844</td>\n",
       "      <td>341</td>\n",
       "      <td>735</td>\n",
       "      <td>67</td>\n",
       "      <td>82</td>\n",
       "      <td>7</td>\n",
       "      <td>10</td>\n",
       "      <td>1600</td>\n",
       "      <td>914.285714</td>\n",
       "    </tr>\n",
       "    <tr>\n",
       "      <th>...</th>\n",
       "      <td>...</td>\n",
       "      <td>...</td>\n",
       "      <td>...</td>\n",
       "      <td>...</td>\n",
       "      <td>...</td>\n",
       "      <td>...</td>\n",
       "      <td>...</td>\n",
       "      <td>...</td>\n",
       "      <td>...</td>\n",
       "      <td>...</td>\n",
       "      <td>...</td>\n",
       "      <td>...</td>\n",
       "      <td>...</td>\n",
       "      <td>...</td>\n",
       "      <td>...</td>\n",
       "    </tr>\n",
       "    <tr>\n",
       "      <th>995</th>\n",
       "      <td>0</td>\n",
       "      <td>-104</td>\n",
       "      <td>172</td>\n",
       "      <td>2300</td>\n",
       "      <td>996</td>\n",
       "      <td>1001</td>\n",
       "      <td>1230</td>\n",
       "      <td>657</td>\n",
       "      <td>315</td>\n",
       "      <td>67</td>\n",
       "      <td>79</td>\n",
       "      <td>10</td>\n",
       "      <td>9</td>\n",
       "      <td>1600</td>\n",
       "      <td>914.285714</td>\n",
       "    </tr>\n",
       "    <tr>\n",
       "      <th>996</th>\n",
       "      <td>0</td>\n",
       "      <td>-160</td>\n",
       "      <td>37</td>\n",
       "      <td>2300</td>\n",
       "      <td>997</td>\n",
       "      <td>632</td>\n",
       "      <td>1395</td>\n",
       "      <td>280</td>\n",
       "      <td>411</td>\n",
       "      <td>78</td>\n",
       "      <td>65</td>\n",
       "      <td>8</td>\n",
       "      <td>6</td>\n",
       "      <td>1600</td>\n",
       "      <td>914.285714</td>\n",
       "    </tr>\n",
       "    <tr>\n",
       "      <th>997</th>\n",
       "      <td>0</td>\n",
       "      <td>-160</td>\n",
       "      <td>30</td>\n",
       "      <td>2300</td>\n",
       "      <td>998</td>\n",
       "      <td>1232</td>\n",
       "      <td>563</td>\n",
       "      <td>650</td>\n",
       "      <td>716</td>\n",
       "      <td>72</td>\n",
       "      <td>72</td>\n",
       "      <td>10</td>\n",
       "      <td>7</td>\n",
       "      <td>1600</td>\n",
       "      <td>914.285714</td>\n",
       "    </tr>\n",
       "    <tr>\n",
       "      <th>998</th>\n",
       "      <td>0</td>\n",
       "      <td>-296</td>\n",
       "      <td>126</td>\n",
       "      <td>2300</td>\n",
       "      <td>999</td>\n",
       "      <td>769</td>\n",
       "      <td>650</td>\n",
       "      <td>640</td>\n",
       "      <td>234</td>\n",
       "      <td>83</td>\n",
       "      <td>73</td>\n",
       "      <td>9</td>\n",
       "      <td>7</td>\n",
       "      <td>1600</td>\n",
       "      <td>914.285714</td>\n",
       "    </tr>\n",
       "    <tr>\n",
       "      <th>999</th>\n",
       "      <td>0</td>\n",
       "      <td>-160</td>\n",
       "      <td>7</td>\n",
       "      <td>2300</td>\n",
       "      <td>1000</td>\n",
       "      <td>775</td>\n",
       "      <td>597</td>\n",
       "      <td>232</td>\n",
       "      <td>744</td>\n",
       "      <td>73</td>\n",
       "      <td>78</td>\n",
       "      <td>7</td>\n",
       "      <td>10</td>\n",
       "      <td>1600</td>\n",
       "      <td>914.285714</td>\n",
       "    </tr>\n",
       "  </tbody>\n",
       "</table>\n",
       "<p>1000 rows × 15 columns</p>\n",
       "</div>"
      ],
      "text/plain": [
       "     wassuccesful  reward  actualsteps  targetsteps  runscompleted  \\\n",
       "0               0    -104          166         2300              1   \n",
       "1               0    -160           22         2300              2   \n",
       "2               0    -148           97         2300              3   \n",
       "3               0     -44          211         2300              4   \n",
       "4               0    -156           47         2300              5   \n",
       "..            ...     ...          ...          ...            ...   \n",
       "995             0    -104          172         2300            996   \n",
       "996             0    -160           37         2300            997   \n",
       "997             0    -160           30         2300            998   \n",
       "998             0    -296          126         2300            999   \n",
       "999             0    -160            7         2300           1000   \n",
       "\n",
       "     star_1_x_pos  star_2_x_pos  star_1_y_pos  star_2_y_pos  star_1_m_pos  \\\n",
       "0            1104          1204           760           469            79   \n",
       "1             999          1077           199           690            66   \n",
       "2            1207           758           577           320            65   \n",
       "3             278           375           394           763            78   \n",
       "4             691           844           341           735            67   \n",
       "..            ...           ...           ...           ...           ...   \n",
       "995          1001          1230           657           315            67   \n",
       "996           632          1395           280           411            78   \n",
       "997          1232           563           650           716            72   \n",
       "998           769           650           640           234            83   \n",
       "999           775           597           232           744            73   \n",
       "\n",
       "     star_2_m_pos  planet_1_m_pos  planet_2_m_pos  length      height  \n",
       "0              75               6               8    1600  914.285714  \n",
       "1              76               6               6    1600  914.285714  \n",
       "2              75               6              10    1600  914.285714  \n",
       "3              84               8               7    1600  914.285714  \n",
       "4              82               7              10    1600  914.285714  \n",
       "..            ...             ...             ...     ...         ...  \n",
       "995            79              10               9    1600  914.285714  \n",
       "996            65               8               6    1600  914.285714  \n",
       "997            72              10               7    1600  914.285714  \n",
       "998            73               9               7    1600  914.285714  \n",
       "999            78               7              10    1600  914.285714  \n",
       "\n",
       "[1000 rows x 15 columns]"
      ]
     },
     "execution_count": 9,
     "metadata": {},
     "output_type": "execute_result"
    }
   ],
   "source": [
    "df_rl"
   ]
  },
  {
   "cell_type": "code",
   "execution_count": 10,
   "id": "35407898",
   "metadata": {},
   "outputs": [
    {
     "ename": "SyntaxError",
     "evalue": "invalid syntax (1305497275.py, line 1)",
     "output_type": "error",
     "traceback": [
      "\u001b[0;36m  File \u001b[0;32m\"/tmp/ipykernel_48654/1305497275.py\"\u001b[0;36m, line \u001b[0;32m1\u001b[0m\n\u001b[0;31m    :\u001b[0m\n\u001b[0m    ^\u001b[0m\n\u001b[0;31mSyntaxError\u001b[0m\u001b[0;31m:\u001b[0m invalid syntax\n"
     ]
    }
   ],
   "source": [
    ":"
   ]
  },
  {
   "cell_type": "code",
   "execution_count": 8,
   "id": "5549d2fa",
   "metadata": {},
   "outputs": [
    {
     "ename": "SyntaxError",
     "evalue": "invalid syntax (2357459161.py, line 2)",
     "output_type": "error",
     "traceback": [
      "\u001b[0;36m  File \u001b[0;32m\"/tmp/ipykernel_48654/2357459161.py\"\u001b[0;36m, line \u001b[0;32m2\u001b[0m\n\u001b[0;31m    :\u001b[0m\n\u001b[0m    ^\u001b[0m\n\u001b[0;31mSyntaxError\u001b[0m\u001b[0;31m:\u001b[0m invalid syntax\n"
     ]
    }
   ],
   "source": []
  },
  {
   "cell_type": "code",
   "execution_count": null,
   "id": "a494eee7",
   "metadata": {
    "scrolled": false
   },
   "outputs": [],
   "source": [
    "filt, _ = get_random_filters_given_columns(df_rl)"
   ]
  },
  {
   "cell_type": "code",
   "execution_count": null,
   "id": "84f2d242",
   "metadata": {
    "scrolled": false
   },
   "outputs": [],
   "source": [
    "average_reward_given_filters(df_rl, filt)"
   ]
  },
  {
   "cell_type": "code",
   "execution_count": null,
   "id": "a16905dc",
   "metadata": {},
   "outputs": [],
   "source": [
    "def sub_domain_search(df_agent_1, agent_1, df_agent_2, agent_2):\n",
    "    \n",
    "    fitness_subdomain_winner = []\n",
    "    \n",
    "    # 1. You have two CSVs containing data that corresponds to two agents.\n",
    "    # via params\n",
    "    \n",
    "    # you ensure each data tihng has the same columns\n",
    "    if list(df_agent_1.columns) != list(df_agent_2.columns):\n",
    "        raise Exception(\"These dataframes have different columns and cannot be compared. Perhaps the corresponding agents were trained with different inputs?\")\n",
    "    \n",
    "        \n",
    "    # 4. You create one or many random filters given the columns from the parameter, and the min/max of those columns.\n",
    "    filt, filt_conditions = get_random_filters_given_columns(df_agent_1)\n",
    "\n",
    "    #  check the performance of each agent in chosen filter\n",
    "    agent_1_performance = average_reward_given_filters(df_agent_1, filt)\n",
    "    agent_2_performance = average_reward_given_filters(df_agent_2, filt)\n",
    "\n",
    "    difference = np.abs(agent_1_performance - agent_2_performance)\n",
    "\n",
    "    # 6. You record all of the filters and which CSV has a higher reward (in a tuple like: Tuple[filter_conditions, better] ).\n",
    "    if agent_1_performance >= agent_2_performance:\n",
    "        fitness_subdomain_winner.append((difference, filt_conditions, agent_1))\n",
    "    else:\n",
    "        fitness_subdomain_winner.append((difference, filt_conditions, agent_2))\n",
    "\n",
    "#     print(fitness_subdomain_winner)\n",
    "#     print(fitness_subdomain_winner[0][0])\n",
    "#     print(np.array(fitness_subdomain_winner).shape)\n",
    "    \n",
    "    # put biggest differences at the top of the list\n",
    "#     fitness_subdomain_winner = fitness_subdomain_winner.sort()\n",
    "#     fitness_subdomain_winner = fitness_subdomain_winner.reverse()\n",
    "    \n",
    "    return fitness_subdomain_winner\n",
    "\n"
   ]
  },
  {
   "cell_type": "code",
   "execution_count": null,
   "id": "aa1246ac",
   "metadata": {},
   "outputs": [],
   "source": [
    "discovered_subdomain = sub_domain_search(df_rl, df_rl, 3)"
   ]
  },
  {
   "cell_type": "code",
   "execution_count": null,
   "id": "b40aad5b",
   "metadata": {
    "scrolled": true
   },
   "outputs": [],
   "source": [
    "discovered_subdomain[0][1][0]"
   ]
  },
  {
   "cell_type": "code",
   "execution_count": null,
   "id": "b1c74ec1",
   "metadata": {
    "scrolled": false
   },
   "outputs": [],
   "source": []
  },
  {
   "cell_type": "code",
   "execution_count": null,
   "id": "58d88a77",
   "metadata": {
    "scrolled": false
   },
   "outputs": [],
   "source": [
    "filtered_df(discovered_subdomain[0][1][0][0], discovered_subdomain[0][1][0][1], discovered_subdomain[0][1][0][2], discovered_subdomain[0][1][0][3], discovered_subdomain[0][1][0][4])"
   ]
  },
  {
   "cell_type": "code",
   "execution_count": null,
   "id": "4e2500c5",
   "metadata": {},
   "outputs": [],
   "source": []
  },
  {
   "cell_type": "code",
   "execution_count": null,
   "id": "843b35a0",
   "metadata": {},
   "outputs": [],
   "source": []
  },
  {
   "cell_type": "code",
   "execution_count": null,
   "id": "1429327a",
   "metadata": {},
   "outputs": [],
   "source": []
  },
  {
   "cell_type": "code",
   "execution_count": null,
   "id": "60fcc6ce",
   "metadata": {
    "scrolled": true
   },
   "outputs": [],
   "source": [
    "filt"
   ]
  },
  {
   "cell_type": "code",
   "execution_count": null,
   "id": "1d77484e",
   "metadata": {},
   "outputs": [],
   "source": []
  },
  {
   "cell_type": "code",
   "execution_count": null,
   "id": "f228dbd7",
   "metadata": {},
   "outputs": [],
   "source": [
    "# psuedocode\n",
    "# def sub_domain_search(csv_1, csv_2, [columns_to_search], number_of_checks):\n",
    "#     filter_and_better = []\n",
    "#     columns_1 = csv_1.columns\n",
    "#     columns_2 = csv_2.columns\n",
    "#     if columns_1 != columns_2:\n",
    "#         raise Exception\n",
    "#     for i in range(number_of_checks):\n",
    "#         filter_1 = get_random_filters_given_columns(csv_1)\n",
    "#         filter_2 = get_random_filters_given_columns(csv_2)\n",
    "#         avg_1 = average_reward_given_filters(csv_1, filter_1)\n",
    "#         avg_2 = average_reward_given_filters(csv_2, filter_2)\n",
    "#         if avg_1 >= avg_2:\n",
    "#             result = (filter_1, 0)\n",
    "#         else:\n",
    "#             result = (filter_2, 1)\n",
    "#         filter_and_better.append(result)\n",
    "#     return filter_and_better\n"
   ]
  },
  {
   "cell_type": "code",
   "execution_count": null,
   "id": "d10343e8",
   "metadata": {},
   "outputs": [],
   "source": [
    "stuff = [(8,3,3),(6,5,5),(7,1,62)]\n",
    "np.array(stuff).shape"
   ]
  },
  {
   "cell_type": "code",
   "execution_count": null,
   "id": "833ff9bd",
   "metadata": {},
   "outputs": [],
   "source": [
    "stuff"
   ]
  },
  {
   "cell_type": "code",
   "execution_count": null,
   "id": "c7ed8b17",
   "metadata": {},
   "outputs": [],
   "source": [
    "stuff.sort()"
   ]
  },
  {
   "cell_type": "code",
   "execution_count": null,
   "id": "e9612626",
   "metadata": {},
   "outputs": [],
   "source": [
    "stuff.reverse()"
   ]
  },
  {
   "cell_type": "code",
   "execution_count": null,
   "id": "ffe495e0",
   "metadata": {
    "scrolled": true
   },
   "outputs": [],
   "source": [
    "stuff[0][0]"
   ]
  },
  {
   "cell_type": "code",
   "execution_count": null,
   "id": "81c2f8cc",
   "metadata": {},
   "outputs": [],
   "source": [
    ":"
   ]
  },
  {
   "cell_type": "code",
   "execution_count": null,
   "id": "71308dfd",
   "metadata": {},
   "outputs": [],
   "source": []
  },
  {
   "cell_type": "code",
   "execution_count": null,
   "id": "c98c66fb",
   "metadata": {},
   "outputs": [],
   "source": [
    "inp = [1242. 4132. 2168. 2399.  243.  223.   17.   17. 5600. 3200.]\n",
    "\n",
    "def matching_subdomain():\n",
    "    \n",
    "    pass"
   ]
  },
  {
   "cell_type": "code",
   "execution_count": null,
   "id": "cfae2b14",
   "metadata": {},
   "outputs": [],
   "source": []
  },
  {
   "cell_type": "code",
   "execution_count": null,
   "id": "728c1304",
   "metadata": {},
   "outputs": [],
   "source": []
  },
  {
   "cell_type": "code",
   "execution_count": null,
   "id": "faa92cab",
   "metadata": {},
   "outputs": [],
   "source": []
  },
  {
   "cell_type": "code",
   "execution_count": null,
   "id": "54a33f41",
   "metadata": {},
   "outputs": [],
   "source": []
  },
  {
   "cell_type": "code",
   "execution_count": null,
   "id": "a3b4894a",
   "metadata": {},
   "outputs": [],
   "source": []
  },
  {
   "cell_type": "code",
   "execution_count": null,
   "id": "2b788c4a",
   "metadata": {},
   "outputs": [],
   "source": []
  },
  {
   "cell_type": "code",
   "execution_count": null,
   "id": "8a3d99a9",
   "metadata": {},
   "outputs": [],
   "source": []
  },
  {
   "cell_type": "code",
   "execution_count": null,
   "id": "ad18487b",
   "metadata": {},
   "outputs": [],
   "source": []
  },
  {
   "cell_type": "code",
   "execution_count": null,
   "id": "9390e083",
   "metadata": {},
   "outputs": [],
   "source": []
  },
  {
   "cell_type": "code",
   "execution_count": null,
   "id": "79f27d30",
   "metadata": {},
   "outputs": [],
   "source": []
  },
  {
   "cell_type": "code",
   "execution_count": null,
   "id": "1facef33",
   "metadata": {},
   "outputs": [],
   "source": []
  },
  {
   "cell_type": "code",
   "execution_count": null,
   "id": "781f7050",
   "metadata": {},
   "outputs": [],
   "source": []
  },
  {
   "cell_type": "code",
   "execution_count": null,
   "id": "c4e513dd",
   "metadata": {},
   "outputs": [],
   "source": []
  },
  {
   "cell_type": "code",
   "execution_count": null,
   "id": "e373fc2f",
   "metadata": {},
   "outputs": [],
   "source": []
  },
  {
   "cell_type": "code",
   "execution_count": null,
   "id": "3a375379",
   "metadata": {},
   "outputs": [],
   "source": []
  },
  {
   "cell_type": "code",
   "execution_count": null,
   "id": "3a2ff597",
   "metadata": {},
   "outputs": [],
   "source": []
  },
  {
   "cell_type": "code",
   "execution_count": null,
   "id": "4525f331",
   "metadata": {},
   "outputs": [],
   "source": []
  },
  {
   "cell_type": "code",
   "execution_count": null,
   "id": "416e9b24",
   "metadata": {},
   "outputs": [],
   "source": []
  },
  {
   "cell_type": "code",
   "execution_count": null,
   "id": "73b2b90d",
   "metadata": {},
   "outputs": [],
   "source": []
  },
  {
   "cell_type": "code",
   "execution_count": null,
   "id": "d4b18281",
   "metadata": {},
   "outputs": [],
   "source": []
  },
  {
   "cell_type": "code",
   "execution_count": null,
   "id": "94578333",
   "metadata": {},
   "outputs": [],
   "source": []
  },
  {
   "cell_type": "code",
   "execution_count": null,
   "id": "664d6ce4",
   "metadata": {},
   "outputs": [],
   "source": []
  },
  {
   "cell_type": "code",
   "execution_count": null,
   "id": "e9e23be5",
   "metadata": {},
   "outputs": [],
   "source": []
  },
  {
   "cell_type": "code",
   "execution_count": null,
   "id": "2ba0dde4",
   "metadata": {},
   "outputs": [],
   "source": []
  },
  {
   "cell_type": "code",
   "execution_count": null,
   "id": "realistic-siemens",
   "metadata": {},
   "outputs": [],
   "source": [
    "def auto_sub_domain_search(df_agent_1, df_agent_2, num_checks):\n",
    "    \n",
    "    fitness_subdomain_winner = []\n",
    "    \n",
    "    # 1. You have two CSVs containing data that corresponds to two agents.\n",
    "    # via params\n",
    "    \n",
    "    # you ensure each data tihng has the same columns\n",
    "    if list(df_agent_1.columns) != list(df_agent_2.columns):\n",
    "        raise Exception(\"These dataframes have different columns and cannot be compared. Perhaps the corresponding agents were trained with different inputs?\")\n",
    "    \n",
    "    # 7. You do this check N times.\n",
    "    for i in range(num_checks):\n",
    "        \n",
    "        # 4. You create one or many random filters given the columns from the parameter, and the min/max of those columns.\n",
    "        filt, filt_conditions = get_random_filters_given_columns(df_agent_1)\n",
    "        \n",
    "        #  check the performance of each agent in chosen filter\n",
    "        agent_1_performance = average_reward_given_filters(df_agent_1, filt)\n",
    "        agent_2_performance = average_reward_given_filters(df_agent_2, filt)\n",
    "        \n",
    "        difference = np.abs(agent_1_performance - agent_2_performance)\n",
    "        \n",
    "        # 6. You record all of the filters and which CSV has a higher reward (in a tuple like: Tuple[filter_conditions, better] ).\n",
    "        if agent_1_performance >= agent_2_performance:\n",
    "            fitness_subdomain_winner.append((difference, filt_conditions, \"agent_1\"))\n",
    "        else:\n",
    "            fitness_subdomain_winner.append((difference, filt_conditions, \"agent_2\"))\n",
    "    \n",
    "#     print(fitness_subdomain_winner)\n",
    "#     print(fitness_subdomain_winner[0][0])\n",
    "#     print(np.array(fitness_subdomain_winner).shape)\n",
    "    \n",
    "    # put biggest differences at the top of the list\n",
    "#     fitness_subdomain_winner = fitness_subdomain_winner.sort()\n",
    "#     fitness_subdomain_winner = fitness_subdomain_winner.reverse()\n",
    "    \n",
    "    return fitness_subdomain_winner\n",
    "\n"
   ]
  }
 ],
 "metadata": {
  "kernelspec": {
   "display_name": "Python 3 (ipykernel)",
   "language": "python",
   "name": "python3"
  },
  "language_info": {
   "codemirror_mode": {
    "name": "ipython",
    "version": 3
   },
   "file_extension": ".py",
   "mimetype": "text/x-python",
   "name": "python",
   "nbconvert_exporter": "python",
   "pygments_lexer": "ipython3",
   "version": "3.7.11"
  }
 },
 "nbformat": 4,
 "nbformat_minor": 5
}
