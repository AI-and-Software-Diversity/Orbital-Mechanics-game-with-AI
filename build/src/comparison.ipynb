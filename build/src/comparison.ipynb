{
 "cells": [
  {
   "cell_type": "code",
   "execution_count": 1,
   "id": "raised-supplement",
   "metadata": {},
   "outputs": [
    {
     "name": "stdout",
     "output_type": "stream",
     "text": [
      "pygame 2.1.2 (SDL 2.0.16, Python 3.7.11)\n",
      "Hello from the pygame community. https://www.pygame.org/contribute.html\n"
     ]
    }
   ],
   "source": [
    "import matplotlib.pyplot as plt\n",
    "import numpy as np\n",
    "import helpers as h\n",
    "import pandas as pd\n",
    "from collections import Counter"
   ]
  },
  {
   "cell_type": "markdown",
   "id": "electrical-ballet",
   "metadata": {},
   "source": [
    "# Get the data frames"
   ]
  },
  {
   "cell_type": "code",
   "execution_count": 2,
   "id": "removed-shooting",
   "metadata": {},
   "outputs": [],
   "source": [
    "path = \"/home/javonne/Uni/Orbital-Mechanics-game-with-AI/build/agents/1_star_1_planet/\"\n",
    "\n",
    "filepath_data_rl = f\"/{path}/rl1/data_rlearn.csv\"\n",
    "filepath_data_neat = f\"/{path}neat1/data_neat.csv\"\n",
    "\n",
    "\n",
    "df_rl = pd.read_csv(filepath_data_rl, sep=',')\n",
    "df_neat = pd.read_csv(filepath_data_neat, sep=',')\n",
    "\n",
    "\n",
    "# https://stackoverflow.com/questions/55652574/how-to-solve-keyerror-unone-of-index-dtype-object-are-in-the-colum\n",
    "df_rl.columns = df_rl.columns.str.replace(' ', '')\n",
    "df_neat.columns = df_neat.columns.str.replace(' ', '')"
   ]
  },
  {
   "cell_type": "markdown",
   "id": "changing-substitute",
   "metadata": {},
   "source": [
    "# find the averages of the reward collumn"
   ]
  },
  {
   "cell_type": "code",
   "execution_count": 3,
   "id": "loose-lightning",
   "metadata": {},
   "outputs": [
    {
     "data": {
      "text/plain": [
       "(reward    61.252\n",
       " dtype: float64,\n",
       " reward    1.144\n",
       " dtype: float64)"
      ]
     },
     "execution_count": 3,
     "metadata": {},
     "output_type": "execute_result"
    }
   ],
   "source": [
    "np.mean(df_rl[['reward']]), np.mean(df_neat[['reward']])"
   ]
  },
  {
   "cell_type": "markdown",
   "id": "adult-newsletter",
   "metadata": {},
   "source": [
    "# Find success %"
   ]
  },
  {
   "cell_type": "code",
   "execution_count": 4,
   "id": "hundred-square",
   "metadata": {},
   "outputs": [
    {
     "data": {
      "text/plain": [
       "Counter({0: 686, 1: 314})"
      ]
     },
     "execution_count": 4,
     "metadata": {},
     "output_type": "execute_result"
    }
   ],
   "source": [
    "Counter(df_neat[\"wassuccesful\"])"
   ]
  },
  {
   "cell_type": "code",
   "execution_count": 5,
   "id": "sealed-cross",
   "metadata": {},
   "outputs": [
    {
     "data": {
      "text/plain": [
       "0.376"
      ]
     },
     "execution_count": 5,
     "metadata": {},
     "output_type": "execute_result"
    }
   ],
   "source": [
    "Counter(df_rl[\"wassuccesful\"])[1] / 1000"
   ]
  },
  {
   "cell_type": "code",
   "execution_count": 6,
   "id": "bulgarian-offer",
   "metadata": {},
   "outputs": [
    {
     "data": {
      "text/plain": [
       "0.314"
      ]
     },
     "execution_count": 6,
     "metadata": {},
     "output_type": "execute_result"
    }
   ],
   "source": [
    "Counter(df_neat[\"wassuccesful\"])[1] / 1000"
   ]
  },
  {
   "cell_type": "code",
   "execution_count": 7,
   "id": "turned-method",
   "metadata": {},
   "outputs": [
    {
     "data": {
      "text/html": [
       "<div>\n",
       "<style scoped>\n",
       "    .dataframe tbody tr th:only-of-type {\n",
       "        vertical-align: middle;\n",
       "    }\n",
       "\n",
       "    .dataframe tbody tr th {\n",
       "        vertical-align: top;\n",
       "    }\n",
       "\n",
       "    .dataframe thead th {\n",
       "        text-align: right;\n",
       "    }\n",
       "</style>\n",
       "<table border=\"1\" class=\"dataframe\">\n",
       "  <thead>\n",
       "    <tr style=\"text-align: right;\">\n",
       "      <th></th>\n",
       "      <th>wassuccesful</th>\n",
       "      <th>reward</th>\n",
       "      <th>actualsteps</th>\n",
       "      <th>targetsteps</th>\n",
       "      <th>runscompleted</th>\n",
       "    </tr>\n",
       "  </thead>\n",
       "  <tbody>\n",
       "    <tr>\n",
       "      <th>count</th>\n",
       "      <td>1000.000000</td>\n",
       "      <td>1000.000000</td>\n",
       "      <td>1000.00000</td>\n",
       "      <td>1000.0</td>\n",
       "      <td>1000.000000</td>\n",
       "    </tr>\n",
       "    <tr>\n",
       "      <th>mean</th>\n",
       "      <td>0.314000</td>\n",
       "      <td>1.144000</td>\n",
       "      <td>810.27900</td>\n",
       "      <td>2300.0</td>\n",
       "      <td>500.500000</td>\n",
       "    </tr>\n",
       "    <tr>\n",
       "      <th>std</th>\n",
       "      <td>0.464349</td>\n",
       "      <td>266.853619</td>\n",
       "      <td>1012.39896</td>\n",
       "      <td>0.0</td>\n",
       "      <td>288.819436</td>\n",
       "    </tr>\n",
       "    <tr>\n",
       "      <th>min</th>\n",
       "      <td>0.000000</td>\n",
       "      <td>-276.000000</td>\n",
       "      <td>18.00000</td>\n",
       "      <td>2300.0</td>\n",
       "      <td>1.000000</td>\n",
       "    </tr>\n",
       "    <tr>\n",
       "      <th>25%</th>\n",
       "      <td>0.000000</td>\n",
       "      <td>-272.000000</td>\n",
       "      <td>79.00000</td>\n",
       "      <td>2300.0</td>\n",
       "      <td>250.750000</td>\n",
       "    </tr>\n",
       "    <tr>\n",
       "      <th>50%</th>\n",
       "      <td>0.000000</td>\n",
       "      <td>-108.000000</td>\n",
       "      <td>141.00000</td>\n",
       "      <td>2300.0</td>\n",
       "      <td>500.500000</td>\n",
       "    </tr>\n",
       "    <tr>\n",
       "      <th>75%</th>\n",
       "      <td>1.000000</td>\n",
       "      <td>378.000000</td>\n",
       "      <td>2301.00000</td>\n",
       "      <td>2300.0</td>\n",
       "      <td>750.250000</td>\n",
       "    </tr>\n",
       "    <tr>\n",
       "      <th>max</th>\n",
       "      <td>1.000000</td>\n",
       "      <td>378.000000</td>\n",
       "      <td>2301.00000</td>\n",
       "      <td>2300.0</td>\n",
       "      <td>1000.000000</td>\n",
       "    </tr>\n",
       "  </tbody>\n",
       "</table>\n",
       "</div>"
      ],
      "text/plain": [
       "       wassuccesful       reward  actualsteps  targetsteps  runscompleted\n",
       "count   1000.000000  1000.000000   1000.00000       1000.0    1000.000000\n",
       "mean       0.314000     1.144000    810.27900       2300.0     500.500000\n",
       "std        0.464349   266.853619   1012.39896          0.0     288.819436\n",
       "min        0.000000  -276.000000     18.00000       2300.0       1.000000\n",
       "25%        0.000000  -272.000000     79.00000       2300.0     250.750000\n",
       "50%        0.000000  -108.000000    141.00000       2300.0     500.500000\n",
       "75%        1.000000   378.000000   2301.00000       2300.0     750.250000\n",
       "max        1.000000   378.000000   2301.00000       2300.0    1000.000000"
      ]
     },
     "execution_count": 7,
     "metadata": {},
     "output_type": "execute_result"
    }
   ],
   "source": [
    "df_neat.describe()"
   ]
  },
  {
   "cell_type": "code",
   "execution_count": 8,
   "id": "presidential-speaking",
   "metadata": {},
   "outputs": [
    {
     "data": {
      "text/html": [
       "<div>\n",
       "<style scoped>\n",
       "    .dataframe tbody tr th:only-of-type {\n",
       "        vertical-align: middle;\n",
       "    }\n",
       "\n",
       "    .dataframe tbody tr th {\n",
       "        vertical-align: top;\n",
       "    }\n",
       "\n",
       "    .dataframe thead th {\n",
       "        text-align: right;\n",
       "    }\n",
       "</style>\n",
       "<table border=\"1\" class=\"dataframe\">\n",
       "  <thead>\n",
       "    <tr style=\"text-align: right;\">\n",
       "      <th></th>\n",
       "      <th>wassuccesful</th>\n",
       "      <th>reward</th>\n",
       "      <th>actualsteps</th>\n",
       "      <th>targetsteps</th>\n",
       "      <th>runscompleted</th>\n",
       "    </tr>\n",
       "  </thead>\n",
       "  <tbody>\n",
       "    <tr>\n",
       "      <th>count</th>\n",
       "      <td>1000.000000</td>\n",
       "      <td>1000.000000</td>\n",
       "      <td>1000.000000</td>\n",
       "      <td>1000.0</td>\n",
       "      <td>1000.000000</td>\n",
       "    </tr>\n",
       "    <tr>\n",
       "      <th>mean</th>\n",
       "      <td>0.376000</td>\n",
       "      <td>61.252000</td>\n",
       "      <td>942.650000</td>\n",
       "      <td>2300.0</td>\n",
       "      <td>500.500000</td>\n",
       "    </tr>\n",
       "    <tr>\n",
       "      <th>std</th>\n",
       "      <td>0.484622</td>\n",
       "      <td>252.828928</td>\n",
       "      <td>1057.633978</td>\n",
       "      <td>0.0</td>\n",
       "      <td>288.819436</td>\n",
       "    </tr>\n",
       "    <tr>\n",
       "      <th>min</th>\n",
       "      <td>0.000000</td>\n",
       "      <td>-276.000000</td>\n",
       "      <td>2.000000</td>\n",
       "      <td>2300.0</td>\n",
       "      <td>1.000000</td>\n",
       "    </tr>\n",
       "    <tr>\n",
       "      <th>25%</th>\n",
       "      <td>0.000000</td>\n",
       "      <td>-116.000000</td>\n",
       "      <td>79.000000</td>\n",
       "      <td>2300.0</td>\n",
       "      <td>250.750000</td>\n",
       "    </tr>\n",
       "    <tr>\n",
       "      <th>50%</th>\n",
       "      <td>0.000000</td>\n",
       "      <td>-64.000000</td>\n",
       "      <td>169.000000</td>\n",
       "      <td>2300.0</td>\n",
       "      <td>500.500000</td>\n",
       "    </tr>\n",
       "    <tr>\n",
       "      <th>75%</th>\n",
       "      <td>1.000000</td>\n",
       "      <td>378.000000</td>\n",
       "      <td>2301.000000</td>\n",
       "      <td>2300.0</td>\n",
       "      <td>750.250000</td>\n",
       "    </tr>\n",
       "    <tr>\n",
       "      <th>max</th>\n",
       "      <td>1.000000</td>\n",
       "      <td>378.000000</td>\n",
       "      <td>2301.000000</td>\n",
       "      <td>2300.0</td>\n",
       "      <td>1000.000000</td>\n",
       "    </tr>\n",
       "  </tbody>\n",
       "</table>\n",
       "</div>"
      ],
      "text/plain": [
       "       wassuccesful       reward  actualsteps  targetsteps  runscompleted\n",
       "count   1000.000000  1000.000000  1000.000000       1000.0    1000.000000\n",
       "mean       0.376000    61.252000   942.650000       2300.0     500.500000\n",
       "std        0.484622   252.828928  1057.633978          0.0     288.819436\n",
       "min        0.000000  -276.000000     2.000000       2300.0       1.000000\n",
       "25%        0.000000  -116.000000    79.000000       2300.0     250.750000\n",
       "50%        0.000000   -64.000000   169.000000       2300.0     500.500000\n",
       "75%        1.000000   378.000000  2301.000000       2300.0     750.250000\n",
       "max        1.000000   378.000000  2301.000000       2300.0    1000.000000"
      ]
     },
     "execution_count": 8,
     "metadata": {},
     "output_type": "execute_result"
    }
   ],
   "source": [
    "df_rl.describe()"
   ]
  },
  {
   "cell_type": "code",
   "execution_count": null,
   "id": "polish-respondent",
   "metadata": {},
   "outputs": [],
   "source": []
  },
  {
   "cell_type": "code",
   "execution_count": null,
   "id": "driven-button",
   "metadata": {},
   "outputs": [],
   "source": []
  },
  {
   "cell_type": "code",
   "execution_count": null,
   "id": "engaging-forest",
   "metadata": {},
   "outputs": [],
   "source": []
  },
  {
   "cell_type": "code",
   "execution_count": null,
   "id": "early-emphasis",
   "metadata": {},
   "outputs": [],
   "source": []
  }
 ],
 "metadata": {
  "kernelspec": {
   "display_name": "Python 3 (ipykernel)",
   "language": "python",
   "name": "python3"
  },
  "language_info": {
   "codemirror_mode": {
    "name": "ipython",
    "version": 3
   },
   "file_extension": ".py",
   "mimetype": "text/x-python",
   "name": "python",
   "nbconvert_exporter": "python",
   "pygments_lexer": "ipython3",
   "version": "3.7.11"
  }
 },
 "nbformat": 4,
 "nbformat_minor": 5
}
