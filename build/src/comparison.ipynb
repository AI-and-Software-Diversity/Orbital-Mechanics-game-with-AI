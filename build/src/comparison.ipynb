{
 "cells": [
  {
   "cell_type": "code",
   "execution_count": 1,
   "id": "raised-supplement",
   "metadata": {},
   "outputs": [
    {
     "name": "stdout",
     "output_type": "stream",
     "text": [
      "pygame 2.1.2 (SDL 2.0.16, Python 3.8.8)\n",
      "Hello from the pygame community. https://www.pygame.org/contribute.html\n"
     ]
    }
   ],
   "source": [
    "import matplotlib.pyplot as plt\n",
    "import numpy as np\n",
    "import helpers as h\n",
    "import pandas as pd\n",
    "from collections import Counter"
   ]
  },
  {
   "cell_type": "markdown",
   "id": "electrical-ballet",
   "metadata": {},
   "source": [
    "# Get the data frames"
   ]
  },
  {
   "cell_type": "code",
   "execution_count": 13,
   "id": "removed-shooting",
   "metadata": {},
   "outputs": [],
   "source": [
    "path = \"/home/javonne/Uni/Orbital-Mechanics-game-with-AI/build/agents/1_star_1_planet/\"\n",
    "path = \"/home/javonne/Uni/Orbital-Mechanics-game-with-AI/build/RESEARCH_DATA/2S1P/\"\n",
    "\n",
    "# filepath_data_rl = f\"/{path}/rl1/data_rlearn.csv\"\n",
    "# filepath_data_neat = f\"/{path}neat1/data_neat.csv\"\n",
    "\n",
    "# df_rl = pd.read_csv(filepath_data_rl, sep=',')\n",
    "# df_neat = pd.read_csv(filepath_data_neat, sep=',')\n",
    "\n",
    "# https://stackoverflow.com/questions/55652574/how-to-solve-keyerror-unone-of-index-dtype-object-are-in-the-colum\n",
    "# df_rl.columns = df_rl.columns.str.replace(' ', '')\n",
    "# df_neat.columns = df_neat.columns.str.replace(' ', '')\n",
    "\n",
    "\n",
    "\n",
    "filepath_data_neat_2 = f\"/{path}neat_2/data_neat.csv\"\n",
    "filepath_data_neat_3 = f\"/{path}neat_3/data_neat.csv\"\n",
    "filepath_data_neat_both = f\"/{path}neat_2_neat_3/data_neat.csv\"\n",
    "\n",
    "df_neat_2 = pd.read_csv(filepath_data_neat_2, sep=',')\n",
    "df_neat_3 = pd.read_csv(filepath_data_neat_3, sep=',')\n",
    "df_neat_both = pd.read_csv(filepath_data_neat_both, sep=',')\n",
    "\n",
    "df_neat_2.columns = df_neat_2.columns.str.replace(' ', '')\n",
    "df_neat_3.columns = df_neat_3.columns.str.replace(' ', '')\n",
    "df_neat_both.columns = df_neat_both.columns.str.replace(' ', '')"
   ]
  },
  {
   "cell_type": "markdown",
   "id": "changing-substitute",
   "metadata": {},
   "source": [
    "# find the averages of the reward collumn"
   ]
  },
  {
   "cell_type": "code",
   "execution_count": null,
   "id": "e64273e0",
   "metadata": {},
   "outputs": [],
   "source": [
    "np.mean(df_neat_2[['reward']])"
   ]
  },
  {
   "cell_type": "code",
   "execution_count": null,
   "id": "decd2739",
   "metadata": {},
   "outputs": [],
   "source": [
    "np.mean(df_neat_3[['reward']])"
   ]
  },
  {
   "cell_type": "code",
   "execution_count": null,
   "id": "a5ef01d4",
   "metadata": {},
   "outputs": [],
   "source": [
    "np.mean(df_neat_both[['reward']])"
   ]
  },
  {
   "cell_type": "code",
   "execution_count": 15,
   "id": "loose-lightning",
   "metadata": {},
   "outputs": [
    {
     "name": "stderr",
     "output_type": "stream",
     "text": [
      "/home/javonne/anaconda3/envs/maffs/lib/python3.8/site-packages/numpy/core/fromnumeric.py:3417: FutureWarning: In a future version, DataFrame.mean(axis=None) will return a scalar mean over the entire DataFrame. To retain the old behavior, use 'frame.mean(axis=0)' or just 'frame.mean()'\n",
      "  return mean(axis=axis, dtype=dtype, out=out, **kwargs)\n",
      "/home/javonne/anaconda3/envs/maffs/lib/python3.8/site-packages/numpy/core/fromnumeric.py:3417: FutureWarning: In a future version, DataFrame.mean(axis=None) will return a scalar mean over the entire DataFrame. To retain the old behavior, use 'frame.mean(axis=0)' or just 'frame.mean()'\n",
      "  return mean(axis=axis, dtype=dtype, out=out, **kwargs)\n",
      "/home/javonne/anaconda3/envs/maffs/lib/python3.8/site-packages/numpy/core/fromnumeric.py:3417: FutureWarning: In a future version, DataFrame.mean(axis=None) will return a scalar mean over the entire DataFrame. To retain the old behavior, use 'frame.mean(axis=0)' or just 'frame.mean()'\n",
      "  return mean(axis=axis, dtype=dtype, out=out, **kwargs)\n"
     ]
    },
    {
     "data": {
      "text/plain": [
       "(reward   -63.462\n",
       " dtype: float64,\n",
       " reward   -63.212\n",
       " dtype: float64,\n",
       " reward   -61.8556\n",
       " dtype: float64)"
      ]
     },
     "execution_count": 15,
     "metadata": {},
     "output_type": "execute_result"
    }
   ],
   "source": [
    "np.mean(df_neat_2[['reward']]), np.mean(df_neat_3[['reward']]), np.mean(df_neat_both[['reward']])"
   ]
  },
  {
   "cell_type": "markdown",
   "id": "adult-newsletter",
   "metadata": {},
   "source": [
    "# Find success %"
   ]
  },
  {
   "cell_type": "code",
   "execution_count": 22,
   "id": "hundred-square",
   "metadata": {},
   "outputs": [
    {
     "data": {
      "text/plain": [
       "0.007"
      ]
     },
     "execution_count": 22,
     "metadata": {},
     "output_type": "execute_result"
    }
   ],
   "source": [
    "Counter(df_neat_2[\"wassuccesful\"])[1] / 1000"
   ]
  },
  {
   "cell_type": "code",
   "execution_count": 23,
   "id": "sealed-cross",
   "metadata": {},
   "outputs": [
    {
     "data": {
      "text/plain": [
       "0.01"
      ]
     },
     "execution_count": 23,
     "metadata": {},
     "output_type": "execute_result"
    }
   ],
   "source": [
    "Counter(df_neat_3[\"wassuccesful\"])[1] / 1000"
   ]
  },
  {
   "cell_type": "code",
   "execution_count": 24,
   "id": "bulgarian-offer",
   "metadata": {},
   "outputs": [
    {
     "data": {
      "text/plain": [
       "0.007"
      ]
     },
     "execution_count": 24,
     "metadata": {},
     "output_type": "execute_result"
    }
   ],
   "source": [
    "Counter(df_neat_both[\"wassuccesful\"])[1] / 1000"
   ]
  },
  {
   "cell_type": "code",
   "execution_count": 25,
   "id": "turned-method",
   "metadata": {
    "collapsed": true
   },
   "outputs": [
    {
     "ename": "NameError",
     "evalue": "name 'df_neat' is not defined",
     "output_type": "error",
     "traceback": [
      "\u001b[0;31m---------------------------------------------------------------------------\u001b[0m",
      "\u001b[0;31mNameError\u001b[0m                                 Traceback (most recent call last)",
      "\u001b[0;32m<ipython-input-25-3eda280cb99f>\u001b[0m in \u001b[0;36m<module>\u001b[0;34m\u001b[0m\n\u001b[0;32m----> 1\u001b[0;31m \u001b[0mdf_neat\u001b[0m\u001b[0;34m.\u001b[0m\u001b[0mdescribe\u001b[0m\u001b[0;34m(\u001b[0m\u001b[0;34m)\u001b[0m\u001b[0;34m\u001b[0m\u001b[0;34m\u001b[0m\u001b[0m\n\u001b[0m",
      "\u001b[0;31mNameError\u001b[0m: name 'df_neat' is not defined"
     ]
    }
   ],
   "source": [
    "df_neat.describe()"
   ]
  },
  {
   "cell_type": "code",
   "execution_count": 26,
   "id": "presidential-speaking",
   "metadata": {
    "collapsed": true
   },
   "outputs": [
    {
     "ename": "NameError",
     "evalue": "name 'df_rl' is not defined",
     "output_type": "error",
     "traceback": [
      "\u001b[0;31m---------------------------------------------------------------------------\u001b[0m",
      "\u001b[0;31mNameError\u001b[0m                                 Traceback (most recent call last)",
      "\u001b[0;32m<ipython-input-26-2e30e3069197>\u001b[0m in \u001b[0;36m<module>\u001b[0;34m\u001b[0m\n\u001b[0;32m----> 1\u001b[0;31m \u001b[0mdf_rl\u001b[0m\u001b[0;34m.\u001b[0m\u001b[0mdescribe\u001b[0m\u001b[0;34m(\u001b[0m\u001b[0;34m)\u001b[0m\u001b[0;34m\u001b[0m\u001b[0;34m\u001b[0m\u001b[0m\n\u001b[0m",
      "\u001b[0;31mNameError\u001b[0m: name 'df_rl' is not defined"
     ]
    }
   ],
   "source": [
    "df_rl.describe()"
   ]
  },
  {
   "cell_type": "code",
   "execution_count": null,
   "id": "polish-respondent",
   "metadata": {},
   "outputs": [],
   "source": []
  },
  {
   "cell_type": "code",
   "execution_count": null,
   "id": "driven-button",
   "metadata": {},
   "outputs": [],
   "source": []
  },
  {
   "cell_type": "code",
   "execution_count": null,
   "id": "engaging-forest",
   "metadata": {},
   "outputs": [],
   "source": []
  },
  {
   "cell_type": "code",
   "execution_count": null,
   "id": "early-emphasis",
   "metadata": {},
   "outputs": [],
   "source": []
  }
 ],
 "metadata": {
  "kernelspec": {
   "display_name": "Python 3 (ipykernel)",
   "language": "python",
   "name": "python3"
  },
  "language_info": {
   "codemirror_mode": {
    "name": "ipython",
    "version": 3
   },
   "file_extension": ".py",
   "mimetype": "text/x-python",
   "name": "python",
   "nbconvert_exporter": "python",
   "pygments_lexer": "ipython3",
   "version": "3.7.11"
  }
 },
 "nbformat": 4,
 "nbformat_minor": 5
}
